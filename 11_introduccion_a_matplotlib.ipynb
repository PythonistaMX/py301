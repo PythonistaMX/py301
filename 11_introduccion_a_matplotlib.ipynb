{
 "cells": [
  {
   "cell_type": "markdown",
   "metadata": {},
   "source": [
    "[![imagenes/pythonista.png](imagenes/pythonista.png)](https://pythonista.io)"
   ]
  },
  {
   "cell_type": "markdown",
   "metadata": {},
   "source": [
    "# Introducción a *Matplotlib*."
   ]
  },
  {
   "cell_type": "markdown",
   "metadata": {},
   "source": [
    "El paquete *Matplotlib* comprende una biblioteca muy extensa de herramientas de visualización de datos de diversas índoles.\n",
    "\n",
    "Está inspirado en [*ggplot*](https://ggplot2.tidyverse.org/) de *R* y [*Matlab*](https://www.mathworks.com/products/matlab.html) con el que guarda una sintaxis muy similar.\n",
    "\n",
    "Tanto *Pandas* como *Matlpotlib* serán herramientas centrales en futuros cursos sobre análisis de datos.\n",
    "\n",
    "El alcance de este capítulo es ejemplificar de forma simple el uso de *Matplotlib*.\n",
    "\n",
    "Para saber más sobre la biblioteca, está disponible la documentación oficial, que incluye varios tutoriales: \n",
    "\n",
    "https://matplotlib.org/users/tutorials.html"
   ]
  },
  {
   "cell_type": "markdown",
   "metadata": {},
   "source": [
    "## El objeto ```matplotlib.pyplot```.\n",
    "\n",
    "El componente principal de *Matplotlib* es ```matplotlib.pyplot```, el cual por convención es importada como ```plt```, por lo que en adelante se utilizará este nombre.\n",
    "\n",
    "Es mediante ```matplotlib.pyplot``` como se accede a la biblioteca de herramientas de *Matplotlib*."
   ]
  },
  {
   "cell_type": "code",
   "execution_count": null,
   "metadata": {},
   "outputs": [],
   "source": [
    "!pip install matplotlib"
   ]
  },
  {
   "cell_type": "code",
   "execution_count": null,
   "metadata": {},
   "outputs": [],
   "source": [
    "import matplotlib.pyplot as plt"
   ]
  },
  {
   "cell_type": "markdown",
   "metadata": {},
   "source": [
    "Aún cuando ```plt()``` es capaz de crear gráficos de gran complejidad, sólo  es necesario ingresar unos pocos datos para poder observar sus funciones básicas.\n",
    "\n",
    "Como es de esperarse, *Matplotib* y ```plt()``` son compatibles com los tipos y clases de *Numpy* y *Pandas*. "
   ]
  },
  {
   "cell_type": "markdown",
   "metadata": {},
   "source": [
    "### *Matplolib* y las notebooks de *Jupyter*.\n",
    "\n",
    "Para poder desplegar las gráficas generadas por *Matplotlib* dentro de una notebook de *Jupyter* o en una intrfaz de *IPython* es necesario utilizar el siguiente \"comando mágico\".\n",
    "\n",
    "```\n",
    "%matplotlib inline\n",
    "```"
   ]
  },
  {
   "cell_type": "markdown",
   "metadata": {},
   "source": [
    "**Ejemplos:**\n",
    "\n",
    "Se utilizará la función ```numpy.sin()``` para crear una gráfica que describa al seno de un ángulo expresado en radianes."
   ]
  },
  {
   "cell_type": "code",
   "execution_count": null,
   "metadata": {},
   "outputs": [],
   "source": [
    "%matplotlib inline"
   ]
  },
  {
   "cell_type": "code",
   "execution_count": null,
   "metadata": {},
   "outputs": [],
   "source": [
    "import numpy as np"
   ]
  },
  {
   "cell_type": "markdown",
   "metadata": {},
   "source": [
    "* La siguiente celda creará una arreglo de una dimensión por medio de la función ```np.linespace()``` que contiene una serie de ```100``` números que van de ```0``` a ```100``` y se le asignará el nombre ```x```. "
   ]
  },
  {
   "cell_type": "code",
   "execution_count": null,
   "metadata": {},
   "outputs": [],
   "source": [
    "x = np.linspace(0, 5, 100)"
   ]
  },
  {
   "cell_type": "code",
   "execution_count": null,
   "metadata": {},
   "outputs": [],
   "source": [
    "x"
   ]
  },
  {
   "cell_type": "markdown",
   "metadata": {},
   "source": [
    "* La siguiente celda creará un arreglo con nomnbre ```y``` que contenga el seno de cada elemento de ```x```."
   ]
  },
  {
   "cell_type": "code",
   "execution_count": null,
   "metadata": {},
   "outputs": [],
   "source": [
    "y = np.sin(x)"
   ]
  },
  {
   "cell_type": "code",
   "execution_count": null,
   "metadata": {},
   "outputs": [],
   "source": [
    "y"
   ]
  },
  {
   "cell_type": "markdown",
   "metadata": {},
   "source": [
    "* La función ```plt.plot()``` realizará la gráfica correspondiente."
   ]
  },
  {
   "cell_type": "code",
   "execution_count": null,
   "metadata": {},
   "outputs": [],
   "source": [
    "plt.plot(x, y)"
   ]
  },
  {
   "cell_type": "markdown",
   "metadata": {},
   "source": [
    "* En el siguiente ejemplo se ingresarán varias funciones de x."
   ]
  },
  {
   "cell_type": "markdown",
   "metadata": {},
   "source": [
    "La siguiente celda desplegará las gráficas de las funciones $sen(x)$ , $x^{0.5}$ y $cos(x)$ en el rango definido por el arreglo ```x```."
   ]
  },
  {
   "cell_type": "code",
   "execution_count": null,
   "metadata": {},
   "outputs": [],
   "source": [
    "plt.plot(x, np.sin(x),x, x**0.5, x, np.cos(x))"
   ]
  },
  {
   "cell_type": "markdown",
   "metadata": {},
   "source": [
    "*Matplotlib* permite configurar prácticamente cualquier elemeto de las gráficas que despliegan."
   ]
  },
  {
   "cell_type": "markdown",
   "metadata": {},
   "source": [
    "**Ejemplo:**\n",
    "\n",
    "Se utilizarán ```plt.title()```, ```plt.xlabel()``` y ```plt.ylabel()``` para desplegar infomación de la gráfica."
   ]
  },
  {
   "cell_type": "code",
   "execution_count": null,
   "metadata": {},
   "outputs": [],
   "source": [
    "plt.title('Funciones de x')\n",
    "plt.xlabel('Eje de las x')\n",
    "plt.ylabel('y = f(x)')\n",
    "plt.plot(x, np.sin(x), x, x**0.5, x, np.cos(x))"
   ]
  },
  {
   "cell_type": "markdown",
   "metadata": {},
   "source": [
    "## Herrmientas de graficación en 3D.\n",
    "\n",
    "Además de crear visualizaciones de datos en 2D, *Matplotlib* puede desplegar gráficas en 3D."
   ]
  },
  {
   "cell_type": "markdown",
   "metadata": {},
   "source": [
    "### El paquete ```mpl_toolkits```.\n",
    "\n",
    "Este paquete contiene uan pequeña colección de herramientas de apoyo para *Matplotlib*, incluyendo el paquete ```mpl_toolkits.mplot3d```."
   ]
  },
  {
   "cell_type": "markdown",
   "metadata": {},
   "source": [
    "**Ejemplo:**"
   ]
  },
  {
   "cell_type": "markdown",
   "metadata": {},
   "source": [
    "A continuación se utilizará el paquete ```mpl_toolkits.mplot3d``` para generar una línea en 3D, en donde los componentes en el eje ```x``` y en el eje ```y``` son funciones de:\n",
    "\n",
    "* El ángulo definido por ```theta```.\n",
    "* El eje verttical definido por ```z```."
   ]
  },
  {
   "cell_type": "code",
   "execution_count": null,
   "metadata": {},
   "outputs": [],
   "source": [
    "import matplotlib as mpl\n",
    "from mpl_toolkits.mplot3d import Axes3D\n",
    "import numpy as np\n",
    "import matplotlib.pyplot as plt\n",
    "\n",
    "mpl.rcParams['legend.fontsize'] = 10\n",
    "\n",
    "fig = plt.figure()\n",
    "ax = fig.gca(projection='3d')\n",
    "theta = np.linspace(-4 * np.pi, 4 * np.pi, 100)\n",
    "z = np.linspace(-2, 2, 100)\n",
    "r = z**2 + 1\n",
    "x = r * np.sin(theta)\n",
    "y = r * np.cos(theta)\n",
    "ax.plot(x, y, z, label='curva paramétrica')\n",
    "ax.legend()\n",
    "\n",
    "plt.show()"
   ]
  },
  {
   "cell_type": "markdown",
   "metadata": {},
   "source": [
    "## Manipulación básica de imágenes.\n",
    "\n",
    "Además del trazo de funciones, *Matplotlib* es capaz de desplegar imágenes dadas como una matriz."
   ]
  },
  {
   "cell_type": "markdown",
   "metadata": {},
   "source": [
    "### El paquete ```imageio```. \n",
    "\n",
    "El paquete permite ejecutar operaciones de Entrada/Salida con archivos imágenes creando objetos similares a un arreglo.\n",
    "\n",
    "La información de ```imageio``` puede ser consultada en:\n",
    "\n",
    "https://github.com/imageio/imageio"
   ]
  },
  {
   "cell_type": "markdown",
   "metadata": {},
   "source": [
    "**Ejemplo:**"
   ]
  },
  {
   "cell_type": "markdown",
   "metadata": {},
   "source": [
    "A continuación se ejemplificará el uso básico de ```imageio``` y ```scikit-image``` para transformar de forma básica a una imagen."
   ]
  },
  {
   "cell_type": "code",
   "execution_count": null,
   "metadata": {},
   "outputs": [],
   "source": [
    "! pip install matplotlib imageio scikit-image"
   ]
  },
  {
   "cell_type": "code",
   "execution_count": null,
   "metadata": {},
   "outputs": [],
   "source": [
    "import skimage\n",
    "import imageio\n",
    "import skimage.filters as skif\n",
    "import skimage.util as util"
   ]
  },
  {
   "cell_type": "code",
   "execution_count": null,
   "metadata": {},
   "outputs": [],
   "source": [
    "imagen = imageio.imread('imagenes/perrita.jpg')"
   ]
  },
  {
   "cell_type": "code",
   "execution_count": null,
   "metadata": {},
   "outputs": [],
   "source": [
    "type(imagen)"
   ]
  },
  {
   "cell_type": "code",
   "execution_count": null,
   "metadata": {},
   "outputs": [],
   "source": [
    "print(imagen)"
   ]
  },
  {
   "cell_type": "code",
   "execution_count": null,
   "metadata": {},
   "outputs": [],
   "source": [
    "imagen.size"
   ]
  },
  {
   "cell_type": "code",
   "execution_count": null,
   "metadata": {},
   "outputs": [],
   "source": [
    "imagen.shape"
   ]
  },
  {
   "cell_type": "code",
   "execution_count": null,
   "metadata": {},
   "outputs": [],
   "source": [
    "def muestra(img):\n",
    "    plt.imshow(img)\n",
    "    plt.axis('off')\n",
    "    plt.style.use('grayscale')\n",
    "    plt.show()"
   ]
  },
  {
   "cell_type": "code",
   "execution_count": null,
   "metadata": {},
   "outputs": [],
   "source": [
    "muestra(imagen)"
   ]
  },
  {
   "cell_type": "code",
   "execution_count": null,
   "metadata": {},
   "outputs": [],
   "source": [
    "medios = imagen.mean(2)"
   ]
  },
  {
   "cell_type": "code",
   "execution_count": null,
   "metadata": {},
   "outputs": [],
   "source": [
    "muestra(medios)"
   ]
  },
  {
   "cell_type": "code",
   "execution_count": null,
   "metadata": {},
   "outputs": [],
   "source": [
    "muestra(skif.gaussian(medios, 2))"
   ]
  },
  {
   "cell_type": "code",
   "execution_count": null,
   "metadata": {},
   "outputs": [],
   "source": [
    "muestra(util.invert(skif.edges.prewitt(medios)))"
   ]
  },
  {
   "cell_type": "code",
   "execution_count": null,
   "metadata": {},
   "outputs": [],
   "source": [
    "muestra(util.invert(skif.edges.roberts(medios)))"
   ]
  },
  {
   "cell_type": "code",
   "execution_count": null,
   "metadata": {},
   "outputs": [],
   "source": [
    "muestra((skif.edges.laplace(medios)))"
   ]
  },
  {
   "cell_type": "markdown",
   "metadata": {},
   "source": [
    "<p style=\"text-align: center\"><a rel=\"license\" href=\"http://creativecommons.org/licenses/by/4.0/\"><img alt=\"Licencia Creative Commons\" style=\"border-width:0\" src=\"https://i.creativecommons.org/l/by/4.0/80x15.png\" /></a><br />Esta obra está bajo una <a rel=\"license\" href=\"http://creativecommons.org/licenses/by/4.0/\">Licencia Creative Commons Atribución 4.0 Internacional</a>.</p>\n",
    "<p style=\"text-align: center\">&copy; José Luis Chiquete Valdivieso. 2019.</p>"
   ]
  }
 ],
 "metadata": {
  "kernelspec": {
   "display_name": "Python 3",
   "language": "python",
   "name": "python3"
  },
  "language_info": {
   "codemirror_mode": {
    "name": "ipython",
    "version": 3
   },
   "file_extension": ".py",
   "mimetype": "text/x-python",
   "name": "python",
   "nbconvert_exporter": "python",
   "pygments_lexer": "ipython3",
   "version": "3.7.3"
  }
 },
 "nbformat": 4,
 "nbformat_minor": 2
}
