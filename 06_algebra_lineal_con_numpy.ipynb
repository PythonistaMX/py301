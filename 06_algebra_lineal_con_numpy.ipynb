{
 "cells": [
  {
   "cell_type": "markdown",
   "metadata": {},
   "source": [
    "[![imagenes/pythonista.png](imagenes/pythonista.png)](https://pythonista.io)"
   ]
  },
  {
   "cell_type": "markdown",
   "metadata": {},
   "source": [
    "Numpy es el componente de Scipy que contiene las herramientas básicas de cálculo numérico, generación de números aleatorios, estadística básica, trigonometría, operaciones matriciales y a algebra lineal; entre otras, las cuales son utilizadas intensivamente por el resto de las bibliotecas.\n",
    "\n",
    "Su propia biblioteca de recursos es muy extensa y cubre gran cantidad de herramientas.\n",
    "\n",
    "A continuación se presentarán algunas de ellas."
   ]
  },
  {
   "cell_type": "markdown",
   "metadata": {},
   "source": [
    "## Rangos numéricos.\n",
    "\n",
    "Numpyu incluye alguinas funciones que generan una sucesion de números en un rango específico. Una de estar funciones es ```np.arange()```. Sin embargo, existen otras como ```np.linstep()``` y ```np.logspace()```."
   ]
  },
  {
   "cell_type": "markdown",
   "metadata": {},
   "source": [
    "### La función ```np.linspace()```.\n",
    "\n",
    "Esta función creará una secuencia de números dentro de un rango dado que corresponde segmentos, incluyendo el inicio y el final."
   ]
  },
  {
   "cell_type": "code",
   "execution_count": 1,
   "metadata": {},
   "outputs": [],
   "source": [
    "import numpy as np"
   ]
  },
  {
   "cell_type": "code",
   "execution_count": 2,
   "metadata": {},
   "outputs": [
    {
     "data": {
      "text/plain": [
       "array([0.        , 0.14285714, 0.28571429, 0.42857143, 0.57142857,\n",
       "       0.71428571, 0.85714286, 1.        , 1.14285714, 1.28571429,\n",
       "       1.42857143, 1.57142857, 1.71428571, 1.85714286, 2.        ,\n",
       "       2.14285714, 2.28571429, 2.42857143, 2.57142857, 2.71428571,\n",
       "       2.85714286, 3.        , 3.14285714, 3.28571429, 3.42857143,\n",
       "       3.57142857, 3.71428571, 3.85714286, 4.        , 4.14285714,\n",
       "       4.28571429, 4.42857143, 4.57142857, 4.71428571, 4.85714286,\n",
       "       5.        , 5.14285714, 5.28571429, 5.42857143, 5.57142857,\n",
       "       5.71428571, 5.85714286, 6.        , 6.14285714, 6.28571429,\n",
       "       6.42857143, 6.57142857, 6.71428571, 6.85714286, 7.        ])"
      ]
     },
     "execution_count": 2,
     "metadata": {},
     "output_type": "execute_result"
    }
   ],
   "source": [
    "np.linspace(0, 7)"
   ]
  },
  {
   "cell_type": "code",
   "execution_count": 3,
   "metadata": {},
   "outputs": [
    {
     "data": {
      "text/plain": [
       "array([0.        , 0.07070707, 0.14141414, 0.21212121, 0.28282828,\n",
       "       0.35353535, 0.42424242, 0.49494949, 0.56565657, 0.63636364,\n",
       "       0.70707071, 0.77777778, 0.84848485, 0.91919192, 0.98989899,\n",
       "       1.06060606, 1.13131313, 1.2020202 , 1.27272727, 1.34343434,\n",
       "       1.41414141, 1.48484848, 1.55555556, 1.62626263, 1.6969697 ,\n",
       "       1.76767677, 1.83838384, 1.90909091, 1.97979798, 2.05050505,\n",
       "       2.12121212, 2.19191919, 2.26262626, 2.33333333, 2.4040404 ,\n",
       "       2.47474747, 2.54545455, 2.61616162, 2.68686869, 2.75757576,\n",
       "       2.82828283, 2.8989899 , 2.96969697, 3.04040404, 3.11111111,\n",
       "       3.18181818, 3.25252525, 3.32323232, 3.39393939, 3.46464646,\n",
       "       3.53535354, 3.60606061, 3.67676768, 3.74747475, 3.81818182,\n",
       "       3.88888889, 3.95959596, 4.03030303, 4.1010101 , 4.17171717,\n",
       "       4.24242424, 4.31313131, 4.38383838, 4.45454545, 4.52525253,\n",
       "       4.5959596 , 4.66666667, 4.73737374, 4.80808081, 4.87878788,\n",
       "       4.94949495, 5.02020202, 5.09090909, 5.16161616, 5.23232323,\n",
       "       5.3030303 , 5.37373737, 5.44444444, 5.51515152, 5.58585859,\n",
       "       5.65656566, 5.72727273, 5.7979798 , 5.86868687, 5.93939394,\n",
       "       6.01010101, 6.08080808, 6.15151515, 6.22222222, 6.29292929,\n",
       "       6.36363636, 6.43434343, 6.50505051, 6.57575758, 6.64646465,\n",
       "       6.71717172, 6.78787879, 6.85858586, 6.92929293, 7.        ])"
      ]
     },
     "execution_count": 3,
     "metadata": {},
     "output_type": "execute_result"
    }
   ],
   "source": [
    "np.linspace(0, 7, num=100)"
   ]
  },
  {
   "cell_type": "markdown",
   "metadata": {},
   "source": [
    "### La función ```np.logspace()```.\n",
    "\n",
    "Esta función creará una secuencia de números en una sucesion logarítmica. La base por defecto es 10."
   ]
  },
  {
   "cell_type": "code",
   "execution_count": 4,
   "metadata": {
    "scrolled": true
   },
   "outputs": [
    {
     "data": {
      "text/plain": [
       "array([  100000.        ,   166810.05372001,   278255.94022071,\n",
       "         464158.88336128,   774263.68268113,  1291549.66501488,\n",
       "        2154434.69003188,  3593813.66380463,  5994842.50318941,\n",
       "       10000000.        ])"
      ]
     },
     "execution_count": 4,
     "metadata": {},
     "output_type": "execute_result"
    }
   ],
   "source": [
    "np.logspace(5, 7, num=10)"
   ]
  },
  {
   "cell_type": "markdown",
   "metadata": {},
   "source": [
    "## El paquete ```numpy.linalg```.\n",
    "\n",
    "La biblioteca especialziada en operaciones de algebra lineal de *Numpy* es ```numpy.linalg```.\n",
    "\n",
    "El estudio de todas las funciones contenodas en este paquete están fuera de los alcances de este curso, pero se ejemplificarán las funciones.\n",
    "\n",
    "* ```numpy.linalg.det()```\n",
    "* ```numpy.linalg.solve()```"
   ]
  },
  {
   "cell_type": "code",
   "execution_count": 5,
   "metadata": {},
   "outputs": [],
   "source": [
    "import numpy.linalg"
   ]
  },
  {
   "cell_type": "code",
   "execution_count": null,
   "metadata": {
    "scrolled": false
   },
   "outputs": [],
   "source": [
    "help(numpy.linalg)"
   ]
  },
  {
   "cell_type": "markdown",
   "metadata": {},
   "source": [
    "### Cálculo del determinate de una matriz mediante ```numpy.linalg.det()```.\n",
    "\n",
    "\n",
    "\n",
    "**Ejemplo:**\n",
    "\n",
    "* Se calculará el determinante de la matriz:\n",
    "\n",
    "$$ \\det\\begin{vmatrix}0&1&2\\\\3&4&5\\\\6&7&8\\end{vmatrix}$$\n",
    "\n",
    "* El cálculo del determinante es el siguiente:\n",
    "\n",
    "$$ ((0 * 4 * 8) + (1 * 5 * 6) + (2 * 3 * 7)) - ((6 * 4 * 2) + (7 * 5 * 0) + (8 * 3* 1)) = 0$$"
   ]
  },
  {
   "cell_type": "code",
   "execution_count": 7,
   "metadata": {},
   "outputs": [],
   "source": [
    "matriz = np.arange(9).reshape(3, 3)"
   ]
  },
  {
   "cell_type": "code",
   "execution_count": 8,
   "metadata": {},
   "outputs": [
    {
     "data": {
      "text/plain": [
       "array([[0, 1, 2],\n",
       "       [3, 4, 5],\n",
       "       [6, 7, 8]])"
      ]
     },
     "execution_count": 8,
     "metadata": {},
     "output_type": "execute_result"
    }
   ],
   "source": [
    "matriz"
   ]
  },
  {
   "cell_type": "code",
   "execution_count": 9,
   "metadata": {},
   "outputs": [
    {
     "data": {
      "text/plain": [
       "0.0"
      ]
     },
     "execution_count": 9,
     "metadata": {},
     "output_type": "execute_result"
    }
   ],
   "source": [
    "numpy.linalg.det(matriz)"
   ]
  },
  {
   "cell_type": "markdown",
   "metadata": {},
   "source": [
    "* Se calculará el determinante de la matriz:\n",
    "\n",
    "$$ \\det\\begin{vmatrix}1&1&2\\\\3&4&5\\\\6&7&8\\end{vmatrix}$$\n",
    "\n",
    "* El cálculo del determinante es el siguiente:\n",
    "\n",
    "$$ ((1 * 4 * 8) + (1 * 5 * 6) + (2 * 3 * 7)) - ((6 * 4 * 2) + (7 * 5 * 1) + (8 * 3* 1)) = -3$$"
   ]
  },
  {
   "cell_type": "code",
   "execution_count": 10,
   "metadata": {},
   "outputs": [],
   "source": [
    "matriz = np.array([[1, 1, 2],\n",
    "                  [3, 4, 5],\n",
    "                  [6, 7, 8]])"
   ]
  },
  {
   "cell_type": "code",
   "execution_count": 11,
   "metadata": {},
   "outputs": [
    {
     "data": {
      "text/plain": [
       "-2.999999999999999"
      ]
     },
     "execution_count": 11,
     "metadata": {},
     "output_type": "execute_result"
    }
   ],
   "source": [
    "numpy.linalg.det(matriz)"
   ]
  },
  {
   "cell_type": "markdown",
   "metadata": {},
   "source": [
    "### Soluciones de ecuaciones lineales con la función ```np.linalg.solve()```.\n",
    "\n",
    "Un sistema de ecuaciones lineales coresponde un conjunto de ecuaciones de la forma:\n",
    "\n",
    "$$\n",
    "a_{11}x_1 + a_{12}x_2 + \\cdots a_{1n}x_n = y_1 \\\\\n",
    "a_{21}x_1 + a_{22}x_2 + \\cdots a_{2n}x_n = y_2\\\\\n",
    "\\vdots\\\\\n",
    "a_{m1}x_1 + a_{m2}x_2 + \\cdots a_{mn}x_n = y_m\n",
    "$$\n",
    "\n",
    "Lo cual puede ser expresado de forma matricial.\n",
    "\n",
    "$$ \n",
    "\\begin{bmatrix}a_{11}\\\\a_{21}\\\\ \\vdots\\\\ a_{m1}\\end{bmatrix}x_1 + \\begin{bmatrix}a_{12}\\\\a_{22}\\\\ \\vdots\\\\ a_{m2}\\end{bmatrix}x_2 + \\cdots \\begin{bmatrix}a_{m1}\\\\a_{m2}\\\\ \\vdots\\\\ a_{mn}\\end{bmatrix}x_n = \\begin{bmatrix}y_{1}\\\\y_{2}\\\\ \\vdots\\\\ y_{m}\\end{bmatrix}\n",
    "$$\n",
    "\n",
    "Existen múltiples métodos para calcular los valores $x_1, x_2 \\cdots x_n$ que cumplan con el sistema siempre que $m = n$.\n",
    "\n",
    "Numpy cuenta con la función *np.linalg.solve()*, la cual puede calcular la solución de un sistema de ecuaciones lineales al expresarse como un par de matrices de la siguiente foma:\n",
    "\n",
    "$$ \n",
    "\\begin{bmatrix}a_{11}&a_{12}&\\cdots&a_{1n}\\\\a_{21}&a_{22}&\\cdots&a_{2n}\\\\ \\vdots\\\\ a_{n1}&a_{n2}&\\cdots&a_{nn}\\end{bmatrix}= \\begin{bmatrix}y_{1}\\\\y_{2}\\\\ \\vdots\\\\ y_{n}\\end{bmatrix}\n",
    "$$\n",
    "\n",
    "La función ```numpy.linagl.solve()``` permite resolver sistemas de ecuaciones lineales ingresando un arreglo de dimensiones ```(n, n)``` como primer argumente y otro con dimensión ```(n)``` como segundo argumento. "
   ]
  },
  {
   "cell_type": "markdown",
   "metadata": {},
   "source": [
    "**Ejemplo:**\n",
    "\n",
    "* Para resolver el sistema de ecuaciones:\n",
    "\n",
    "$$\n",
    "2x_1 + 5x_2 - 3x_3 = 22.2 \\\\\n",
    "11x_1 - 4x_2 + 22x_3 = 11.6 \\\\\n",
    "54x_1 + 1x_2 + 19x_3 = -40.1 \\\\\n",
    "$$\n",
    "\n",
    "* Se realiza lo siguiente:"
   ]
  },
  {
   "cell_type": "code",
   "execution_count": 12,
   "metadata": {},
   "outputs": [],
   "source": [
    "a = np.array([[2, 5, -3],\n",
    "              [11, -4, 22],\n",
    "              [54, 1, 19]])"
   ]
  },
  {
   "cell_type": "code",
   "execution_count": 13,
   "metadata": {},
   "outputs": [
    {
     "data": {
      "text/plain": [
       "(3, 3)"
      ]
     },
     "execution_count": 13,
     "metadata": {},
     "output_type": "execute_result"
    }
   ],
   "source": [
    "a.shape"
   ]
  },
  {
   "cell_type": "code",
   "execution_count": 14,
   "metadata": {},
   "outputs": [],
   "source": [
    "y = np.array([22.2, 11.6, -40.1])"
   ]
  },
  {
   "cell_type": "code",
   "execution_count": 15,
   "metadata": {},
   "outputs": [
    {
     "data": {
      "text/plain": [
       "(3,)"
      ]
     },
     "execution_count": 15,
     "metadata": {},
     "output_type": "execute_result"
    }
   ],
   "source": [
    "y.shape"
   ]
  },
  {
   "cell_type": "code",
   "execution_count": 16,
   "metadata": {},
   "outputs": [
    {
     "data": {
      "text/plain": [
       "array([-1.80243902,  6.7549776 ,  2.65666999])"
      ]
     },
     "execution_count": 16,
     "metadata": {},
     "output_type": "execute_result"
    }
   ],
   "source": [
    "np.linalg.solve(a, y)"
   ]
  },
  {
   "cell_type": "code",
   "execution_count": 18,
   "metadata": {},
   "outputs": [],
   "source": [
    "arreglo_1 = np.array([[1, 2],\n",
    "          [3, 4]])"
   ]
  },
  {
   "cell_type": "code",
   "execution_count": 19,
   "metadata": {},
   "outputs": [],
   "source": [
    "arreglo_2 = np.array([[11, 12],\n",
    "          [13, 14]])"
   ]
  },
  {
   "cell_type": "markdown",
   "metadata": {},
   "source": [
    "## Producto punto entre dos matrices."
   ]
  },
  {
   "cell_type": "code",
   "execution_count": 20,
   "metadata": {},
   "outputs": [
    {
     "data": {
      "text/plain": [
       "array([[37, 40],\n",
       "       [85, 92]])"
      ]
     },
     "execution_count": 20,
     "metadata": {},
     "output_type": "execute_result"
    }
   ],
   "source": [
    "arreglo_1 @ arreglo_2"
   ]
  },
  {
   "cell_type": "code",
   "execution_count": 21,
   "metadata": {},
   "outputs": [
    {
     "data": {
      "text/plain": [
       "array([[37, 40],\n",
       "       [85, 92]])"
      ]
     },
     "execution_count": 21,
     "metadata": {},
     "output_type": "execute_result"
    }
   ],
   "source": [
    "arreglo_1.dot(arreglo_2)"
   ]
  },
  {
   "cell_type": "markdown",
   "metadata": {},
   "source": [
    "## Producto cruz entre dos matrices."
   ]
  },
  {
   "cell_type": "code",
   "execution_count": 23,
   "metadata": {},
   "outputs": [
    {
     "data": {
      "text/plain": [
       "array([-10, -10])"
      ]
     },
     "execution_count": 23,
     "metadata": {},
     "output_type": "execute_result"
    }
   ],
   "source": [
    "np.cross(arreglo_1, arreglo_2)"
   ]
  },
  {
   "cell_type": "code",
   "execution_count": 26,
   "metadata": {},
   "outputs": [],
   "source": [
    "arreglo_3 = np.arange(6).reshape(2, 3)"
   ]
  },
  {
   "cell_type": "code",
   "execution_count": 28,
   "metadata": {},
   "outputs": [],
   "source": [
    "arreglo_4 = np.arange(7, 13).reshape(3, 2)"
   ]
  },
  {
   "cell_type": "code",
   "execution_count": 29,
   "metadata": {},
   "outputs": [
    {
     "data": {
      "text/plain": [
       "array([[ 31,  34],\n",
       "       [112, 124]])"
      ]
     },
     "execution_count": 29,
     "metadata": {},
     "output_type": "execute_result"
    }
   ],
   "source": [
    "arreglo_3 @ arreglo_4 "
   ]
  },
  {
   "cell_type": "code",
   "execution_count": 30,
   "metadata": {},
   "outputs": [
    {
     "data": {
      "text/plain": [
       "array([[24, 39, 54],\n",
       "       [30, 49, 68],\n",
       "       [36, 59, 82]])"
      ]
     },
     "execution_count": 30,
     "metadata": {},
     "output_type": "execute_result"
    }
   ],
   "source": [
    "arreglo_4 @ arreglo_3"
   ]
  },
  {
   "cell_type": "markdown",
   "metadata": {},
   "source": [
    "<p style=\"text-align: center\"><a rel=\"license\" href=\"http://creativecommons.org/licenses/by/4.0/\"><img alt=\"Licencia Creative Commons\" style=\"border-width:0\" src=\"https://i.creativecommons.org/l/by/4.0/80x15.png\" /></a><br />Esta obra está bajo una <a rel=\"license\" href=\"http://creativecommons.org/licenses/by/4.0/\">Licencia Creative Commons Atribución 4.0 Internacional</a>.</p>\n",
    "<p style=\"text-align: center\">&copy; José Luis Chiquete Valdivieso. 2019.</p>"
   ]
  }
 ],
 "metadata": {
  "kernelspec": {
   "display_name": "Python 3",
   "language": "python",
   "name": "python3"
  },
  "language_info": {
   "codemirror_mode": {
    "name": "ipython",
    "version": 3
   },
   "file_extension": ".py",
   "mimetype": "text/x-python",
   "name": "python",
   "nbconvert_exporter": "python",
   "pygments_lexer": "ipython3",
   "version": "3.6.6"
  }
 },
 "nbformat": 4,
 "nbformat_minor": 2
}
