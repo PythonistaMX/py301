{
 "cells": [
  {
   "cell_type": "markdown",
   "metadata": {},
   "source": [
    "[![imagenes](imagenes/pythonista.png)](https://pythonista.io)"
   ]
  },
  {
   "cell_type": "markdown",
   "metadata": {},
   "source": [
    "Aún cuando se presentarán algunas herramientas de cómputo científico, el enfoque primordial de este módulo es el de mostrar de forma introductoria diveras herramientas especializadas en el procesamiento, análisis, presentación y visualización de datos; muchas de las cuales serán los temas centrales de módulos más avanzado.\n",
    "\n",
    "En vista de lo anterior, es pertinente hacer alguna definiciones preliminares sobre los datos."
   ]
  },
  {
   "cell_type": "markdown",
   "metadata": {},
   "source": [
    "## El dato.\n",
    "\n",
    "Un dato es una pieza de información que puede ser representada, preservada y extraída por algún medio. \n",
    "\n",
    "Por su naturaleza, los datos pueden ser:\n",
    "\n",
    "* Cualitativos, cuando describen el aspecto de un objeto o fenómeno mediante alguna caracterísitica (cualidad) específica.\n",
    "* Cuantitativos, cuando es posible expresar de forma numérica la magnitud de cierta característica de un objeto o fenómeno."
   ]
  },
  {
   "cell_type": "markdown",
   "metadata": {},
   "source": [
    "## Fuentes de datos.\n",
    "\n",
    "Los datos pueden tener diversas fuentes a las que se puede acceder directa o indirectamente.\n",
    "\n",
    "La calidad, pertinencia y veracidad de un dato depende en gran medida de su origen y el modo en el que éste se obtiene. \n",
    "\n",
    "Una de las bases del método científico es la de poder identificar, aislar y de ser posible, reproducir la fuente de los datos que son objetos de un estudio."
   ]
  },
  {
   "cell_type": "markdown",
   "metadata": {},
   "source": [
    "## Procesamiento de datos.\n",
    "\n",
    "Antes de poder realizar operaciones de análisis de datos es necesario procesar los datos desde sus fuentes.\n",
    "\n",
    "* Validacion: Consiste en constatar que los datos contienen información correcta y relevante para un objetivo específico.\n",
    "\n",
    "* Ordenamineto: Consiste en organizar, filtrar y ajustar los datos a una estructura definida de modo que éstos sean coherentes.\n",
    "\n",
    "* Compendiado: Consiste en seleccionar sólo aquellas porciones de datos que sean relevantes y pertinentes.\n",
    "\n",
    "* Agregación: Consiste en agrupar datos de diversaas fuentes. \n",
    "\n",
    "* Análisis: Es el proceso que permite obtener información y nuevos datos a partir de los datos previos.\n",
    "\n",
    "* Comunicación: Consiste en la realización de reportes, gráficos, infografías y documentos que serán usados para la toma de decisiones.\n",
    "\n",
    "* Clasificación: Consiste en la selección de los datos a partir de criterios específicos, que permitan catalogar los datos para su correcta conservación."
   ]
  },
  {
   "cell_type": "markdown",
   "metadata": {},
   "source": [
    "<p style=\"text-align: center\"><a rel=\"license\" href=\"http://creativecommons.org/licenses/by/4.0/\"><img alt=\"Licencia Creative Commons\" style=\"border-width:0\" src=\"https://i.creativecommons.org/l/by/4.0/80x15.png\" /></a><br />Esta obra está bajo una <a rel=\"license\" href=\"http://creativecommons.org/licenses/by/4.0/\">Licencia Creative Commons Atribución 4.0 Internacional</a>.</p>\n",
    "<p style=\"text-align: center\">&copy; José Luis Chiquete Valdivieso. 2019.</p>"
   ]
  }
 ],
 "metadata": {
  "kernelspec": {
   "display_name": "Python 3",
   "language": "python",
   "name": "python3"
  },
  "language_info": {
   "codemirror_mode": {
    "name": "ipython",
    "version": 3
   },
   "file_extension": ".py",
   "mimetype": "text/x-python",
   "name": "python",
   "nbconvert_exporter": "python",
   "pygments_lexer": "ipython3",
   "version": "3.7.2"
  }
 },
 "nbformat": 4,
 "nbformat_minor": 2
}
