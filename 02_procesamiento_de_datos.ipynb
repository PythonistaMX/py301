{
 "cells": [
  {
   "cell_type": "markdown",
   "metadata": {},
   "source": [
    "[![imagenes](imagenes/pythonista.png)](https://pythonista.io)"
   ]
  },
  {
   "cell_type": "markdown",
   "metadata": {},
   "source": [
    "Antes de poder realizar operaciones de análisis de datos es necesario procesar los datos desde sus fuentes.\n",
    "\n",
    "    \n",
    "* Validacion: Consiste en constatar que los datos contienen información correcta y relevante para un objetivo específico.\n",
    "* Ordenamineto: onsiste en organizar, filtrar y ajustar los datos a una estructura definida de modo que éstos sean coherentes.\n",
    "* Compendiado: onsiste en seleccionar sólo aquellas porciones de datos que sean relevantes y pertinentes.\n",
    "* Agregación: onsiste en agrupar datos de diversaas fuentes. \n",
    "* Análisis:Es el proceso que permite obtener información y nuevos datos a partir de los datos previos.\n",
    "* Comunicación: onsiste en la realización de reportes, gráficos, infografías y documentos que serán usados para la toma de decisiones.\n",
    "* Clasificación:"
   ]
  },
  {
   "cell_type": "markdown",
   "metadata": {},
   "source": [
    "<p style=\"text-align: center\"><a rel=\"license\" href=\"http://creativecommons.org/licenses/by/4.0/\"><img alt=\"Licencia Creative Commons\" style=\"border-width:0\" src=\"https://i.creativecommons.org/l/by/4.0/80x15.png\" /></a><br />Esta obra está bajo una <a rel=\"license\" href=\"http://creativecommons.org/licenses/by/4.0/\">Licencia Creative Commons Atribución 4.0 Internacional</a>.</p>\n",
    "<p style=\"text-align: center\">&copy; José Luis Chiquete Valdivieso. 2018.</p>"
   ]
  }
 ],
 "metadata": {
  "kernelspec": {
   "display_name": "Python 3",
   "language": "python",
   "name": "python3"
  },
  "language_info": {
   "codemirror_mode": {
    "name": "ipython",
    "version": 3
   },
   "file_extension": ".py",
   "mimetype": "text/x-python",
   "name": "python",
   "nbconvert_exporter": "python",
   "pygments_lexer": "ipython3",
   "version": "3.6.6"
  }
 },
 "nbformat": 4,
 "nbformat_minor": 2
}
