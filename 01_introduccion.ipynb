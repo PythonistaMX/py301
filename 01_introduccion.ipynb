{
 "cells": [
  {
   "cell_type": "markdown",
   "metadata": {},
   "source": [
    "[![imagenes](imagenes/pythonista.png)](https://pythonista.io)"
   ]
  },
  {
   "cell_type": "markdown",
   "metadata": {},
   "source": [
    "## Introducción y objetivo.\n",
    "\n",
    "Aún cuando Python es un lenguaje de propósito general, su uso en el campo del cómputo científico, el análisis de datos, y recientemente, en Machine Learning, Deep Learning e Inteligencia Artificial se ha extendido y popularizado.\n",
    "\n",
    "El objetivo de este módulo es el de presentar de forma general y práctica algunas de las herramientas y bibliotecas más populares dedicadas al análisis de datos y cómputo científico en Python.\n",
    "\n",
    "El enfoque primordial será sobre las funciones básicas de las herramientas presentadas incluyendo algunos casos de uso, por lo que el presente contenido servirá de base para otros más enfocados en la teoría y práctica de temas de análisis científico, dejando a las herramientas como auxiliares del aprendizaje.\n",
    "\n",
    "* Se discutirán algunos aspectos primordiales en el manejo de datos.\n",
    "* Se explorarán algunas funciones y módulos que ofrece Python para el manejo de flujos de datos. \n",
    "* Se hará gran énfasis en la creación y uso de las principales estructuras y tipos de datos que Numpy ofrece.\n",
    "* Se estudiarán algunos aspectos de los DataFrames y Series de Pandas.\n",
    "* Se realizarán algunas demostraciones básicas del uso de Matplotlib tanto para la elaboración de gráficas como para la transformación de imágenes.\n",
    "* Se realizarán algunos ejemplos del uso de Seaborn para la elaboración de gráficos estádísticos.\n",
    "* Se hará una breve demostración del uso de NetworkX para la creación y análisis de redes y grafos.\n",
    "* Se realizará una rápida introducción al uso de herramientas de an{alisis de lenguaje natural mediante el NLTK de Python. \n",
    "* Se explorarán algunos de los principales proyectos catalogados en los Scikits.\n",
    "* Se tocará el tema del uso de expresiones de matemáticas simbólicas con Sympy."
   ]
  },
  {
   "cell_type": "markdown",
   "metadata": {},
   "source": [
    "## El proyecto Scipy. \n",
    "\n",
    "El proyecto [Scipy](https://www.scipy.org/) reune una serie de bibliotecas y herramientas especializadas en cómputo científico, análisis y visualización de datos.\n",
    "\n",
    "Scipy está conformado a su vez por los siguientes componentes. \n",
    "\n",
    "* La [biblioteca de Scipy](https://www.scipy.org/scipylib/index.html).\n",
    "* [Numpy](http://www.numpy.org/).\n",
    "* [Matplotlib](https://matplotlib.org/).\n",
    "* [iPython](https://ipython.org/)/[Jupyter](https://ipython.org/) https://en.wikipedia.org/wiki/Fernando_P%C3%A9rez_(software_developer)\n",
    "* [Sympy](https://www.sympy.org).\n",
    "* [Pandas](https://pandas.pydata.org/).\n",
    "\n",
    "La característica principal de cada componente de Scipy es que las herramientas cuentan con una amplia documentación y soporte de una gran comunidad.\n",
    "\n",
    "Para conocer con mayor profundidad sobre Scipy se sugiere consultar la documentación y tutoriales. localizados en https://www.scipy-lectures.org/"
   ]
  },
  {
   "cell_type": "markdown",
   "metadata": {},
   "source": [
    "## Numpy.\n",
    "\n",
    "Numpy es un paquete especializada en la creación, gestión y operación (incluyendo funciones matemáticas y estádisitcas básicas y generación de números aleatorios) con arreglos de una o varias dimensiones. \n",
    "\n",
    "Numpy cuenta con módulos especializados en operaciones de algebra lineal y transformaciones de Fourier entre otros.\n",
    "\n",
    "Cabe señalar que Numpy generalmente se beneficia del uso de bibliotecas de algebra lineal escritas en FORTRAN, tales como [Lapack](https://netlib.sandia.gov/lapack/#_presentation) [BLAS](http://www.netlib.org/blas/) y [OpenBLAS](http://www.openblas.net/). Incluso existen algunas variantes de Numpy diseñadas para realizar cálculos mediante GPU tales como [Gnumpy](https://www.cs.toronto.edu/~tijmen/gnumpy.html).\n",
    "\n",
    "Los tipos de datos y los arreglos de Numpy son elemento base del resto de los componentes de Scipy e incluso de otras herramientas de cómputo científico."
   ]
  },
  {
   "cell_type": "markdown",
   "metadata": {},
   "source": [
    "## Matplotlib.\n",
    "\n",
    "Matplotlib es un paquete especializado en la creación y manipulación gráficos e imágenes. Muchos proyectos de visualización de imágenes y datos usan a Matplotlib como una biblioteca primordial.  \n",
    "\n",
    "Utiliza una sintaxis y funcionalidad basada en [Matlab](https://www.mathworks.com/products/matlab.html) y es equiparable a [ggplot](https://ggplot2.tidyverse.org/)  de [R](https://www.r-project.org/)."
   ]
  },
  {
   "cell_type": "markdown",
   "metadata": {},
   "source": [
    "## Pandas.\n",
    "\n",
    "Pandas es un paquete especializado en realizar operaciones de análisis de datos, incluyendo:\n",
    "\n",
    "* Adquisición de datos.\n",
    "* Manipulación y depuración de conjuntos de datos (datasets).\n",
    "* Análisis estadístico básico.\n",
    "* Análisis de series de tgiempo."
   ]
  },
  {
   "cell_type": "markdown",
   "metadata": {},
   "source": [
    "## Sympy.\n",
    "\n",
    "Sympy es un paquete que permite ingresar e interpretar fórmulas como si fueran símbolos matemáticos. Su objetivo es el de ser una sistema cómputo algebraico."
   ]
  },
  {
   "cell_type": "markdown",
   "metadata": {},
   "source": [
    "## iPython y Jupyter.\n",
    "\n",
    "### iPython.\n",
    "\n",
    "El proyecto iPython es un shell interactivo de Python que extiende las funcionalidades del shell tradicional de Python, permitiendo entre otras cosas:\n",
    "\n",
    "* Coloreado del código.\n",
    "* Autocompletado de comandos.\n",
    "* Historial de comandos.\n",
    "* Cómputo paralelo y concurrente.\n",
    "* Capcidad de desplegar los gr;aficos generados por Matplotlib en la misma ventana.\n",
    "\n",
    "iPython cuenta con una interfaz para la terminal, una interfaz (consola) de escritorio basada en QT y una interfaz web por medio de un kernel para notebooks de Jupyter.\n",
    "\n",
    "### Jupyter.\n",
    "\n",
    "La interfaz web de iPython evolucionó de tal forma que la matéfora de una libreta o \"notebook\" no sólo podía contener un intérprete de Python, sino que podía adapatarse a otros lenguajes de programación mediante \"kernels\". Es así que a partir de iPython surgió Jupyter (por JUlia PYTon y R). \n",
    "\n",
    "Jupyter es servidor web capaz de desplegar una interfaz web que incluye:\n",
    "\n",
    "* Un gestor de archivos.\n",
    "* Editor de texto.\n",
    "* Un emulador de terminal (excepto en Windows).\n",
    "* Las \"Notebooks\".\n",
    "\n",
    "Las notebooks de Jupyter pueden combinar celdas de texto capaces de desplegar tipografías similares a las de HTML mediante la [sintaxis de Markdown](https://daringfireball.net/projects/markdown/syntax) con celdas de código ejecutable, incluyendo el despliegue de gráficos e imágenes, entre otras muchas funcionalidades.\n",
    "\n",
    "Jupyter puede mantener múltiples notebooks, terminales ejecutándose simultáneamente.\n",
    "\n",
    "Actualmente las notebooks de Jupyter soportan [kernels de diversos lenguajes.](https://github.com/jupyter/jupyter/wiki/Jupyter-kernels).\n",
    "\n",
    "Las notebooks de jupyter pueden ser exportadas en múltiples formatos, tales como HTML, PDF, reST, LaTeX e incluso como un formato de diapositivas en línea utilizando [Reveal.js](https://revealjs.com/#)."
   ]
  },
  {
   "cell_type": "markdown",
   "metadata": {},
   "source": [
    "## Los Scikits.\n",
    "\n",
    "Los [scikits](https://scikits.appspot.com/about) son proyectos relacionados con Scipy que, por diversas razones, no forman parte de los componentes principales del proyecto.\n",
    "\n",
    "Estos proyectos exploran diversas temáticas tales como por ejemplo [Machine Learning](http://scikit-learn.org/stable/index.html) y [procesamiento de imágenes](https://scikit-image.org/).\n",
    "\n",
    "La lista de scikits está disponible en https://scikits.appspot.com/scikits.\n",
    "\n",
    "La calidad de las bibliotecas y de la documentación "
   ]
  },
  {
   "cell_type": "markdown",
   "metadata": {},
   "source": [
    "## NetworkX.\n",
    "\n",
    "[NetworkX](https://networkx.github.io/) es una herramienta especializada en el despliegue y análisis de redes complejas e incluye:\n",
    "\n",
    "* Estructuras de datos para representar grafos, digrafos y multigrafos.\n",
    "* Algoritmos especializados en el cálculo y análisis de redes.\n",
    "* Generadores de grafos aleatorios y sintéticos.\n",
    "\n",
    "La herramienta es muy madura y cuenta con una comunidad muy extendida."
   ]
  },
  {
   "cell_type": "markdown",
   "metadata": {},
   "source": [
    "## NLTK.\n",
    "\n",
    "El kit de análisis de lenguaje natural ([NLTK](http://www.nltk.org/), por sus siglas en inglés) es el  proyecto más robusto y completo en el campo del estudio, análisis y desarrollo de datos a partir del lenguaje humanos.\n",
    "\n",
    "Cuenta con herramientas y recursos lexicológicos para diversos idiomas, capaces de extraer, refinar, procesar, analizar y extender enormes cantidades de datos basados en el uso del lenguaje.\n",
    "\n",
    "La comunidad de NLTK está conformada por programadores, lingüistas, filólogos y expertos que hacen uso de la herramienta de forma cotidiana."
   ]
  },
  {
   "cell_type": "markdown",
   "metadata": {},
   "source": [
    "## Seaborn.\n",
    "\n",
    "[Seaborn](https://seaborn.pydata.org/) es una biblioteca basada en Matplotlib, especializada en despliegue y visualización de datos estadísticos."
   ]
  },
  {
   "cell_type": "markdown",
   "metadata": {},
   "source": [
    "<p style=\"text-align: center\"><a rel=\"license\" href=\"http://creativecommons.org/licenses/by/4.0/\"><img alt=\"Licencia Creative Commons\" style=\"border-width:0\" src=\"https://i.creativecommons.org/l/by/4.0/80x15.png\" /></a><br />Esta obra está bajo una <a rel=\"license\" href=\"http://creativecommons.org/licenses/by/4.0/\">Licencia Creative Commons Atribución 4.0 Internacional</a>.</p>\n",
    "<p style=\"text-align: center\">&copy; José Luis Chiquete Valdivieso. 2019.</p>"
   ]
  }
 ],
 "metadata": {
  "kernelspec": {
   "display_name": "Python 3",
   "language": "python",
   "name": "python3"
  },
  "language_info": {
   "codemirror_mode": {
    "name": "ipython",
    "version": 3
   },
   "file_extension": ".py",
   "mimetype": "text/x-python",
   "name": "python",
   "nbconvert_exporter": "python",
   "pygments_lexer": "ipython3",
   "version": "3.7.3"
  }
 },
 "nbformat": 4,
 "nbformat_minor": 2
}
