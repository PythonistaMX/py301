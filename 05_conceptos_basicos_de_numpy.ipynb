{
 "cells": [
  {
   "cell_type": "markdown",
   "metadata": {},
   "source": [
    "[![imagenes](imagenes/pythonista.png)](https://pythonista.io)"
   ]
  },
  {
   "cell_type": "markdown",
   "metadata": {},
   "source": [
    "[*Numpy*](http://www.numpy.org/) es un paquete que contiene una biblioteca de recursos especializados en realizar operaciones optimizadas en arreglos de datos.\n",
    "\n",
    "La instalación de *Numpy* puede ser hecha mediante *pip*."
   ]
  },
  {
   "cell_type": "code",
   "execution_count": null,
   "metadata": {},
   "outputs": [],
   "source": [
    "!pip install numpy"
   ]
  },
  {
   "cell_type": "markdown",
   "metadata": {},
   "source": [
    "**Nota:** Por convención se sustituye el nombre del  módulo *numpy* por *np* al importarlo. En adelante, se utilizará dicha convención."
   ]
  },
  {
   "cell_type": "code",
   "execution_count": null,
   "metadata": {},
   "outputs": [],
   "source": [
    "import numpy as np"
   ]
  },
  {
   "cell_type": "markdown",
   "metadata": {},
   "source": [
    "## Los arreglos en *Numpy*.\n",
    "\n",
    "Los elementos primordiales de *Numpy* son los arreglos (arrays), los cuales son colecciones ordenadas e indexables de datos.\n",
    "\n",
    "* A diferencia de los tipos *list* y *tuple*, todos y cada uno de los datos contenidos en los arreglos de *Numpy* deben de ser de un tipo específico."
   ]
  },
  {
   "cell_type": "markdown",
   "metadata": {},
   "source": [
    "## Los objetos *np.ndarray*.\n",
    "\n",
    "*Numpy* cuenta con una amplia variedad de funciones capaces de crear arreglos, pero todos ellos son de tipo *np.ndarray*.\n",
    "\n",
    "Un arreglo genérico se define mediante la siguiente sintaxis:\n",
    "\n",
    "``` python\n",
    "np.array(<estructura del arreglo>, dtype=<tipo>)\n",
    "```\n",
    "* La estructura del arreglo se conforma por colecciones de datos indexables que pueden contener a su vez otras colecciones de datos indexables. \n",
    "\n",
    "* El parámetro *dtype* indica el tipo de los datos que contiene el arreglo. En caso de que no se defina el tipo de dato, *numpy*  tratará de definirlo."
   ]
  },
  {
   "cell_type": "markdown",
   "metadata": {},
   "source": [
    "**Ejemplo:**\n",
    "\n",
    "A continuación se definirá un arreglo con las siguientes características:\n",
    "* Es un arreglo de una dimensión que contiene tres elementos.\n",
    "* Los elementos son enteros.\n",
    "* No se define un tipo de dato con el parámetro *dtype*.\n",
    "* Al arreglo se le asignará el nombre *arreglo*."
   ]
  },
  {
   "cell_type": "code",
   "execution_count": null,
   "metadata": {},
   "outputs": [],
   "source": [
    "arreglo = np.array((1,2, 3))"
   ]
  },
  {
   "cell_type": "code",
   "execution_count": null,
   "metadata": {},
   "outputs": [],
   "source": [
    "arreglo"
   ]
  },
  {
   "cell_type": "code",
   "execution_count": null,
   "metadata": {},
   "outputs": [],
   "source": [
    "type(arreglo)"
   ]
  },
  {
   "cell_type": "code",
   "execution_count": null,
   "metadata": {},
   "outputs": [],
   "source": [
    "dir(arreglo)"
   ]
  },
  {
   "cell_type": "markdown",
   "metadata": {},
   "source": [
    "* A continuación se desplegará el tipo al que corresponde cada dato de *arreglo*."
   ]
  },
  {
   "cell_type": "code",
   "execution_count": null,
   "metadata": {
    "scrolled": true
   },
   "outputs": [],
   "source": [
    "for item in arreglo:\n",
    "    print('valor: {}, tipo: {}'.format(item, type(item)))"
   ]
  },
  {
   "cell_type": "markdown",
   "metadata": {},
   "source": [
    "### Restricciones en los tipos de datos en un arreglo."
   ]
  },
  {
   "cell_type": "code",
   "execution_count": null,
   "metadata": {},
   "outputs": [],
   "source": [
    "np.array(['d', 3 , (12, 6, True)])"
   ]
  },
  {
   "cell_type": "markdown",
   "metadata": {},
   "source": [
    "## Dimensiones.\n",
    "\n",
    "Los arreglos de Numpy Pueden ser de múltiples dimensiones.\n",
    "\n",
    "El atributo *ndim* nos permite conocer el número de dimensiones. "
   ]
  },
  {
   "cell_type": "markdown",
   "metadata": {},
   "source": [
    "**Ejemplos:**"
   ]
  },
  {
   "cell_type": "code",
   "execution_count": null,
   "metadata": {},
   "outputs": [],
   "source": [
    "unidimensional = np.array([1,2,3])"
   ]
  },
  {
   "cell_type": "code",
   "execution_count": null,
   "metadata": {},
   "outputs": [],
   "source": [
    "unidimensional"
   ]
  },
  {
   "cell_type": "code",
   "execution_count": null,
   "metadata": {},
   "outputs": [],
   "source": [
    "unidimensional.ndim"
   ]
  },
  {
   "cell_type": "code",
   "execution_count": null,
   "metadata": {},
   "outputs": [],
   "source": [
    "bidimensional = np.array([[1, 2, 3] ,[4, 5, 6]])"
   ]
  },
  {
   "cell_type": "code",
   "execution_count": null,
   "metadata": {},
   "outputs": [],
   "source": [
    "bidimensional"
   ]
  },
  {
   "cell_type": "code",
   "execution_count": null,
   "metadata": {},
   "outputs": [],
   "source": [
    "bidimensional.ndim"
   ]
  },
  {
   "cell_type": "code",
   "execution_count": null,
   "metadata": {},
   "outputs": [],
   "source": [
    "tridimiensional = np.array([[[1, 2], [3, 4]],\n",
    "                            [[5, 6], [7, 8]]])"
   ]
  },
  {
   "cell_type": "code",
   "execution_count": null,
   "metadata": {},
   "outputs": [],
   "source": [
    "tridimiensional.ndim"
   ]
  },
  {
   "cell_type": "markdown",
   "metadata": {},
   "source": [
    "## Tipos de datos de Numpy.\n",
    "\n",
    "Numpy define tipos de datos que extienden a los tipos con los que cuenta  Python.\n",
    "\n",
    "Estos tipos de datos pueden tener diversos tamaños dependiendo del número de bits asignado para almacenar dichos tipos."
   ]
  },
  {
   "cell_type": "markdown",
   "metadata": {},
   "source": [
    "### Tipos enteros.\n",
    "\n",
    "Es posible definir enteros de distintos tamaños como *int*, *int8*, *int16*, *int32* e *int64*, los cuales pueden ser positivos o negativos.\n",
    "\n",
    "Es posible definir enteros sin signo, tales como *uint*, *uint8*, *uint16*, *uint32* e *uint64*.\n",
    "\n",
    "Es posible definir un arreglo conformado por bytes mediante los tipos *byte*.\n",
    "\n",
    "Si no se define el tipo de dato, Python utilizará *int64* por defecto.\n",
    "\n",
    "**Ejemplos:**"
   ]
  },
  {
   "cell_type": "code",
   "execution_count": null,
   "metadata": {},
   "outputs": [],
   "source": [
    "np.array(((1, 2), (3, 4)))"
   ]
  },
  {
   "cell_type": "code",
   "execution_count": null,
   "metadata": {},
   "outputs": [],
   "source": [
    "type(np.array(((1, 2), (3, 4)))[0][1])"
   ]
  },
  {
   "cell_type": "code",
   "execution_count": null,
   "metadata": {},
   "outputs": [],
   "source": [
    "np.array(((-1, 2), (3, 4)), dtype = np.uint8)"
   ]
  },
  {
   "cell_type": "code",
   "execution_count": null,
   "metadata": {},
   "outputs": [],
   "source": [
    "np.array(((-1, 2), (3, 4)), dtype = np.uint64)"
   ]
  },
  {
   "cell_type": "code",
   "execution_count": null,
   "metadata": {
    "scrolled": true
   },
   "outputs": [],
   "source": [
    "np.array(((101,11), (101, 256)), dtype = np.byte)"
   ]
  },
  {
   "cell_type": "markdown",
   "metadata": {},
   "source": [
    "### Tipos de punto flotante.\n",
    "\n",
    "Los tipos de punto flotante siempre tendrán un signo y son *float* *float16*, *float32*, *float64*, *float128*. \n",
    "\n",
    "Si no se define, Python utilizará *float64*.\n",
    "\n",
    "**Ejemplos:**"
   ]
  },
  {
   "cell_type": "code",
   "execution_count": null,
   "metadata": {},
   "outputs": [],
   "source": [
    "np.array(((11., 2), (15, 43)))"
   ]
  },
  {
   "cell_type": "code",
   "execution_count": null,
   "metadata": {},
   "outputs": [],
   "source": [
    "type(np.array(((11., 2), (15, 43)))[0,0])"
   ]
  },
  {
   "cell_type": "markdown",
   "metadata": {},
   "source": [
    "### Tipos booleanos.\n",
    "Se incluye el tipo *bool_* para indicar que el arreglo se trata de booleanos.\n",
    "\n",
    "**Ejemplo:**"
   ]
  },
  {
   "cell_type": "code",
   "execution_count": null,
   "metadata": {},
   "outputs": [],
   "source": [
    "np.array(((1,'Hola'), (False, 0)), dtype = np.bool_)"
   ]
  },
  {
   "cell_type": "markdown",
   "metadata": {},
   "source": [
    "### Tipos de texto.\n",
    "\n",
    "Pueden ser de tipo *string_* o *unicode_* o *bytes_* el tamaño de los elementos del arreglo corresponderán al elemento de texto más extenso.\n",
    "\n",
    "A diferencia de Python 3, *numpy* aún diferencia los tipos *string* y *unicode*.\n",
    "\n",
    "Es posible definir el tamaño de los elementos por defecto utilizando la siguiente sintaxis al ingresar el argumento de *dtype*, siendo S para str y U para unicode:\n",
    "\n",
    "``` python\n",
    "\n",
    "dtype=\"<S<entero>\"\n",
    "dtype=\"<U<entero>\"\n",
    "```\n",
    "\n",
    "**Ejemplos:**"
   ]
  },
  {
   "cell_type": "code",
   "execution_count": null,
   "metadata": {},
   "outputs": [],
   "source": [
    "np.array((['Hugo', 'Paco'],['Luis Ignacio', 'Donald']))"
   ]
  },
  {
   "cell_type": "code",
   "execution_count": null,
   "metadata": {},
   "outputs": [],
   "source": [
    "np.array((['Hugo', 'Paco'],['Luis Ignacio', 'Donald']), dtype = np.unicode_)"
   ]
  },
  {
   "cell_type": "code",
   "execution_count": null,
   "metadata": {},
   "outputs": [],
   "source": [
    "np.array((['Hugo', 'Paco'],['Luis Ignacio', 'Donald']), dtype = np.bytes_)"
   ]
  },
  {
   "cell_type": "code",
   "execution_count": null,
   "metadata": {},
   "outputs": [],
   "source": [
    "np.array((['Hugo', 'Paco'],['Luis Ignacio', 'Donald']), dtype = np.string_)"
   ]
  },
  {
   "cell_type": "code",
   "execution_count": null,
   "metadata": {},
   "outputs": [],
   "source": [
    "np.array((['Hugo', 'Paco'],['Luis Ignacio', 'Donald']), dtype = \">U6\")"
   ]
  },
  {
   "cell_type": "markdown",
   "metadata": {},
   "source": [
    "## Valores numéricos especiales.\n",
    "\n",
    "Numpy es capaz de reconocer números indeterminados e infintios."
   ]
  },
  {
   "cell_type": "markdown",
   "metadata": {},
   "source": [
    "### El valor *nan*.\n",
    "\n",
    "Numpy utiliza *nan* cuando el valor no se trata de un número o es una indeterminación."
   ]
  },
  {
   "cell_type": "markdown",
   "metadata": {},
   "source": [
    "### El valor *inf*.\n",
    "\n",
    "El valor *inf* representa un número tan grande que no puede ser calculado o el infinito*. Dicho valor puede llevar signo.\n",
    "\n",
    "**Ejemplos:**"
   ]
  },
  {
   "cell_type": "code",
   "execution_count": null,
   "metadata": {
    "scrolled": true
   },
   "outputs": [],
   "source": [
    "numeros = np.array(([1, 0],[-1, 1]))"
   ]
  },
  {
   "cell_type": "code",
   "execution_count": null,
   "metadata": {},
   "outputs": [],
   "source": [
    "numeros"
   ]
  },
  {
   "cell_type": "code",
   "execution_count": null,
   "metadata": {},
   "outputs": [],
   "source": [
    "numeros / 0"
   ]
  },
  {
   "cell_type": "code",
   "execution_count": null,
   "metadata": {},
   "outputs": [],
   "source": [
    "np.array([[np.inf, np.nan],[1, 3]])"
   ]
  },
  {
   "cell_type": "code",
   "execution_count": null,
   "metadata": {},
   "outputs": [],
   "source": [
    "np.array((18446744073709551615000000000000000000000000000000000000000002., 2))[0]"
   ]
  },
  {
   "cell_type": "markdown",
   "metadata": {},
   "source": [
    "<p style=\"text-align: center\"><a rel=\"license\" href=\"http://creativecommons.org/licenses/by/4.0/\"><img alt=\"Licencia Creative Commons\" style=\"border-width:0\" src=\"https://i.creativecommons.org/l/by/4.0/80x15.png\" /></a><br />Esta obra está bajo una <a rel=\"license\" href=\"http://creativecommons.org/licenses/by/4.0/\">Licencia Creative Commons Atribución 4.0 Internacional</a>.</p>\n",
    "<p style=\"text-align: center\">&copy; José Luis Chiquete Valdivieso. 2018.</p>"
   ]
  }
 ],
 "metadata": {
  "kernelspec": {
   "display_name": "Python 3",
   "language": "python",
   "name": "python3"
  },
  "language_info": {
   "codemirror_mode": {
    "name": "ipython",
    "version": 3
   },
   "file_extension": ".py",
   "mimetype": "text/x-python",
   "name": "python",
   "nbconvert_exporter": "python",
   "pygments_lexer": "ipython3",
   "version": "3.6.6"
  }
 },
 "nbformat": 4,
 "nbformat_minor": 2
}
