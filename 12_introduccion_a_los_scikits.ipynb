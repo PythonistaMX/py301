{
 "cells": [
  {
   "cell_type": "markdown",
   "metadata": {},
   "source": [
    "[![imagenes/pythonista.png](imagenes/pythonista.png)](https://pythonista.io)"
   ]
  },
  {
   "cell_type": "markdown",
   "metadata": {},
   "source": [
    "El proyecto principal de Scpiy lleva a cabo una búsqueda  y listado automatizado de herramientas basadas en dicho proyecto. A dichos proyectos se les conoce como \"[Scikits](https://www.scipy.org/scikits.html)\". \n",
    "\n",
    "Los scikits no son mantenidos ni desarrollados por Scipy y en muchos casos cuentan con poca documentación.Sin embargo, existen algunos proyectos que son muy maduros, cuentan con una comunidad robusta y son ampliamente conocidos."
   ]
  },
  {
   "cell_type": "markdown",
   "metadata": {},
   "source": [
    "## El proyecto *scikit-learn*.\n",
    "\n",
    "El proyecto *scikit-learn* es una biblioteca de herramientas altamente especializadas en Machine Learning.\n",
    "\n",
    "Este proyecto puede ser consultado en https://scikit-learn.org/\n",
    "    \n",
    "El proyecto *scikit-ml* es una variación de *scikit-learn* enfocada a la clasificaci;ón de datos con múltiples etiquetas y puede ser consultado en http://scikit.ml/"
   ]
  },
  {
   "cell_type": "markdown",
   "metadata": {},
   "source": [
    "## El proyecto  *scikit-image*.\n",
    "\n",
    "El proyecto *scikit-image* contiene una serie de herramientas que permiten el procesamiento y análisis de imágenes mediante una amplia biblioteca de algoritmos.\n",
    "\n",
    "Este proyecto puede ser consultado en https://scikit-image.org/"
   ]
  },
  {
   "cell_type": "markdown",
   "metadata": {},
   "source": [
    "<p style=\"text-align: center\"><a rel=\"license\" href=\"http://creativecommons.org/licenses/by/4.0/\"><img alt=\"Licencia Creative Commons\" style=\"border-width:0\" src=\"https://i.creativecommons.org/l/by/4.0/80x15.png\" /></a><br />Esta obra está bajo una <a rel=\"license\" href=\"http://creativecommons.org/licenses/by/4.0/\">Licencia Creative Commons Atribución 4.0 Internacional</a>.</p>\n",
    "<p style=\"text-align: center\">&copy; José Luis Chiquete Valdivieso. 2019.</p>"
   ]
  }
 ],
 "metadata": {
  "kernelspec": {
   "display_name": "Python 3",
   "language": "python",
   "name": "python3"
  },
  "language_info": {
   "codemirror_mode": {
    "name": "ipython",
    "version": 3
   },
   "file_extension": ".py",
   "mimetype": "text/x-python",
   "name": "python",
   "nbconvert_exporter": "python",
   "pygments_lexer": "ipython3",
   "version": "3.6.6"
  }
 },
 "nbformat": 4,
 "nbformat_minor": 2
}
