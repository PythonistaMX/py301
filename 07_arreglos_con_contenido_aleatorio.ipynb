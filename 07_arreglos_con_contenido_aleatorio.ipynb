{
 "cells": [
  {
   "cell_type": "markdown",
   "metadata": {},
   "source": [
    "[![imagenes](imagenes/pythonista.png)](https://pythonista.io)"
   ]
  },
  {
   "cell_type": "markdown",
   "metadata": {},
   "source": [
<<<<<<< HEAD
    "# Arreglos con contenido aleatorio."
=======
    "# Arreglos con contenido aleatorio.\n",
    "\n",
    "**Nota:** Aún cuando a partir de este capítulo se haga referencia a \"números aleatorios\", es necesario hacer notar que tanto *Python* como *Numpy* solo son capaces de generar números pseudo-aleatorios."
>>>>>>> master
   ]
  },
  {
   "cell_type": "code",
   "execution_count": null,
   "metadata": {
    "scrolled": true
   },
   "outputs": [],
   "source": [
    "import numpy as np"
   ]
  },
  {
   "cell_type": "markdown",
   "metadata": {},
   "source": [
<<<<<<< HEAD
    "## El paquete ```np.random```."
=======
    "## El paquete ```np.random```.\n",
    "\n",
    "*Numpy* cuenta con el paquete ```np.random```, el cual permite crear arreglos aleatorios de distintas índoles e incluso ajustándose a ciertas distribuciones probabilísticas.\n",
    "\n",
    "La documentación del paquete está disponible en:\n",
    "\n",
    "https://numpy.org/devdocs/reference/random/index.html"
   ]
  },
  {
   "cell_type": "code",
   "execution_count": null,
   "metadata": {},
   "outputs": [],
   "source": [
    "from numpy import random"
>>>>>>> master
   ]
  },
  {
   "cell_type": "markdown",
   "metadata": {},
   "source": [
<<<<<<< HEAD
    "### La función ```np.random.rand()```.\n",
    "\n",
    "* La función ```np.random.rand()``` crea un arreglo cuyos elementos son valores aleatorios que van de ```0``` a antes de ```1``` dentro de una distribución uniforme.\n",
    "\n",
    "```\n",
    "np.random.rand(<forma>)\n",
    "```\n",
    "\n",
    "* Donde ```<forma>``` es una secuencia de valores enteros separados por comas que definen la forma del arreglo."
=======
    "## El generador de números aleatorios de *Numpy*.\n",
    "\n",
    "El componente primoridal para la generación de números y de arreglos con contenido aleatorio es es la función ```random.default_rng()```, la cual regresa un generador de números aleatorios el cual contiene diversos métodos que corresponden a una distribución de probabilidad específica.\n",
    "\n",
    "Los argumentos aceptados por cada método dependen de la naturaleza de la distribución.\n",
    "\n",
    "Las posibles distribuciones pueden ser consultadas en:\n",
    "\n",
    "https://numpy.org/devdocs/reference/random/generator.html#distributions"
   ]
  },
  {
   "cell_type": "markdown",
   "metadata": {},
   "source": [
    "**Ejemplos:**"
>>>>>>> master
   ]
  },
  {
   "cell_type": "markdown",
   "metadata": {},
   "source": [
<<<<<<< HEAD
    "**Ejemplo:**"
   ]
  },
  {
   "cell_type": "markdown",
   "metadata": {},
   "source": [
    "* La siguiente celda generará un arreglo de forma ```(2, 2, 2)```conteniendo números aleatorios."
   ]
  },
  {
   "cell_type": "code",
   "execution_count": null,
   "metadata": {
    "scrolled": true
   },
   "outputs": [],
   "source": [
    "np.random.rand(2, 2, 2)"
   ]
  },
  {
   "cell_type": "markdown",
   "metadata": {},
   "source": [
    "### La función ```np.random.randint()```.\n",
    "\n",
    "* La función ```np.random.randint()``` crea un arreglo cuyos elementos son valores entros aleatorios en un rango dado.\n",
    "\n",
    "```\n",
    "np.random.randint(<inicio>, <fin>, <forma>)\n",
    "```\n",
    "\n",
    "Donde:\n",
    "\n",
    "* ```<inicio>``` es el valor inicial del rango a partir del cual se generarán los números aleatorios, incluyéndolo a este.\n",
    "* ```<fin>``` es  el valor final del rango a partir del cual se generarán los números aleatorios, sin incluirlo.\n",
    "* ```<forma>``` es un objeto ```tuple``` que definen la forma del arreglo."
   ]
  },
  {
   "cell_type": "markdown",
   "metadata": {},
   "source": [
    "**Ejemplos:**"
=======
    "* La siguiente celda regresará un objeto generador."
   ]
  },
  {
   "cell_type": "code",
   "execution_count": null,
   "metadata": {},
   "outputs": [],
   "source": [
    "random.default_rng()"
>>>>>>> master
   ]
  },
  {
   "cell_type": "markdown",
   "metadata": {},
   "source": [
<<<<<<< HEAD
    "* La siguente celda creará una arreglo de forma ```(3, 3)``` con valores enteros que pueden ir de ```1``` a ```2```."
=======
    "* La siguiente celda regresará un objeto generador al que se la signará el nombre ```migenerador```."
>>>>>>> master
   ]
  },
  {
   "cell_type": "code",
   "execution_count": null,
<<<<<<< HEAD
   "metadata": {
    "scrolled": true
   },
   "outputs": [],
   "source": [
    "np.random.randint(1, 3, (3, 3))"
=======
   "metadata": {},
   "outputs": [],
   "source": [
    "migenerador = random.default_rng()"
>>>>>>> master
   ]
  },
  {
   "cell_type": "markdown",
   "metadata": {},
   "source": [
<<<<<<< HEAD
=======
    "* La siguiente celda regresará un arreglo unidimensional de ```100``` elementos de números aleatorio con media en ```12``` y desviación estándar de ```3```."
   ]
  },
  {
   "cell_type": "code",
   "execution_count": null,
   "metadata": {},
   "outputs": [],
   "source": [
    "migenerador.normal(12, 3, 100)"
   ]
  },
  {
   "cell_type": "code",
   "execution_count": null,
   "metadata": {},
   "outputs": [],
   "source": [
    "migenerador.uniform(3, 7, 20)"
   ]
  },
  {
   "cell_type": "markdown",
   "metadata": {},
   "source": [
    "### La función ```np.random.rand()```.\n",
    "\n",
    "* La función ```np.random.rand()``` crea un arreglo cuyos elementos son valores aleatorios que van de ```0``` a antes de ```1``` dentro de una distribución uniforme.\n",
    "\n",
    "```\n",
    "np.random.rand(<forma>)\n",
    "```\n",
    "\n",
    "* Donde ```<forma>``` es una secuencia de valores enteros separados por comas que definen la forma del arreglo.\n",
    "\n",
    "\n",
    "La documentación de ```np.random.rand()``` está disponible en:\n",
    "\n",
    "https://numpy.org/devdocs/reference/random/generated/numpy.random.rand.html"
   ]
  },
  {
   "cell_type": "markdown",
   "metadata": {},
   "source": [
    "**Ejemplo:**"
   ]
  },
  {
   "cell_type": "markdown",
   "metadata": {},
   "source": [
    "* La siguiente celda generará un arreglo de forma ```(2, 2, 2)```conteniendo números aleatorios."
   ]
  },
  {
   "cell_type": "code",
   "execution_count": null,
   "metadata": {
    "scrolled": true
   },
   "outputs": [],
   "source": [
    "np.random.rand(2, 2, 2)"
   ]
  },
  {
   "cell_type": "markdown",
   "metadata": {},
   "source": [
    "### La función ```np.random.randint()```.\n",
    "\n",
    "* La función ```np.random.randint()``` crea un arreglo cuyos elementos son valores entros aleatorios en un rango dado.\n",
    "\n",
    "```\n",
    "np.random.randint(<inicio>, <fin>, <forma>)\n",
    "```\n",
    "\n",
    "Donde:\n",
    "\n",
    "* ```<inicio>``` es el valor inicial del rango a partir del cual se generarán los números aleatorios, incluyéndolo a este.\n",
    "* ```<fin>``` es  el valor final del rango a partir del cual se generarán los números aleatorios, sin incluirlo.\n",
    "* ```<forma>``` es un objeto ```tuple``` que definen la forma del arreglo.\n",
    "\n",
    "La documentación de ```np.random.randint()``` está disponible en:\n",
    "\n",
    "https://numpy.org/devdocs/reference/random/generated/numpy.random.randint.html"
   ]
  },
  {
   "cell_type": "markdown",
   "metadata": {},
   "source": [
    "**Ejemplos:**"
   ]
  },
  {
   "cell_type": "markdown",
   "metadata": {},
   "source": [
    "* La siguente celda creará una arreglo de forma ```(3, 3)``` con valores enteros que pueden ir de ```1``` a ```2```."
   ]
  },
  {
   "cell_type": "code",
   "execution_count": null,
   "metadata": {
    "scrolled": true
   },
   "outputs": [],
   "source": [
    "np.random.randint(1, 3, (3, 3))"
   ]
  },
  {
   "cell_type": "markdown",
   "metadata": {},
   "source": [
>>>>>>> master
    "* La siguente celda creará una arreglo de forma ```(3, 2, 4)``` con valores enteros que pueden ir de ```0``` a ```255```."
   ]
  },
  {
   "cell_type": "code",
   "execution_count": null,
   "metadata": {
    "scrolled": true
   },
   "outputs": [],
   "source": [
    "np.random.randint(0, 256, (3, 2, 4))"
   ]
  },
  {
   "cell_type": "markdown",
   "metadata": {},
   "source": [
<<<<<<< HEAD
=======
    "### La función ```np.random.choice()```.\n",
    "\n",
    "* La función ```np.random.randint()``` crea un arreglo cuyos elementos son valores entros aleatorios en un rango dado.\n",
    "\n",
    "```\n",
    "np.random.choice(<opciones>, <forma>)\n",
    "```\n",
    "\n",
    "Donde:\n",
    "\n",
    "* ```<opciones>``` es un arreglo unidimensional o luna colección que contiene las posibles opciones de un arreglo.\n",
    "* ```<forma>``` es un objeto ```tuple``` que definen la forma del arreglo.\n",
    "\n",
    "La documentación de ```np.random.choice()``` está disponible en:\n",
    "\n",
    "https://numpy.org/devdocs/reference/random/generated/numpy.random.choice.html"
   ]
  },
  {
   "cell_type": "markdown",
   "metadata": {},
   "source": [
    "**Ejemplo:**"
   ]
  },
  {
   "cell_type": "markdown",
   "metadata": {},
   "source": [
    "* La siguiente celda regresará un arreglo de forma ```(5, 5)``` con opciones generadas a partir de ```['Hugo', 'Paco', 'Luis']```."
   ]
  },
  {
   "cell_type": "code",
   "execution_count": null,
   "metadata": {},
   "outputs": [],
   "source": [
    "np.random.choice(['Hugo', 'Paco', 'Luis'], (5, 5))"
   ]
  },
  {
   "cell_type": "markdown",
   "metadata": {},
   "source": [
>>>>>>> master
    "<p style=\"text-align: center\"><a rel=\"license\" href=\"http://creativecommons.org/licenses/by/4.0/\"><img alt=\"Licencia Creative Commons\" style=\"border-width:0\" src=\"https://i.creativecommons.org/l/by/4.0/80x15.png\" /></a><br />Esta obra está bajo una <a rel=\"license\" href=\"http://creativecommons.org/licenses/by/4.0/\">Licencia Creative Commons Atribución 4.0 Internacional</a>.</p>\n",
    "<p style=\"text-align: center\">&copy; José Luis Chiquete Valdivieso. 2020.</p>"
   ]
  }
 ],
 "metadata": {
  "kernelspec": {
   "display_name": "Python 3",
   "language": "python",
   "name": "python3"
  },
  "language_info": {
   "codemirror_mode": {
    "name": "ipython",
    "version": 3
   },
   "file_extension": ".py",
   "mimetype": "text/x-python",
   "name": "python",
   "nbconvert_exporter": "python",
   "pygments_lexer": "ipython3",
   "version": "3.7.3"
  }
 },
 "nbformat": 4,
 "nbformat_minor": 2
}
