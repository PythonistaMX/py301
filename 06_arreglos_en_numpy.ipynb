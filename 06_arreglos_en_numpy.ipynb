{
 "cells": [
  {
   "cell_type": "markdown",
   "metadata": {},
   "source": [
    "[![imagenes](imagenes/pythonista.png)](https://pythonista.io)"
   ]
  },
  {
   "cell_type": "markdown",
   "metadata": {},
   "source": [
    "## Creación de arreglos.\n",
    "\n",
    "Además de *np.array* es posible crear arreglos con ciertas características particulares."
   ]
  },
  {
   "cell_type": "markdown",
   "metadata": {},
   "source": [
    "### Creación de arreglos llenos de números 1.\n",
    "\n",
    "Para crear un arreglo que contenga exclusivamente el número 1 en cada elemento se utiliza la función *np.ones()*.\n",
    "\n",
    "``` python\n",
    "np.ones(<tupla indicando el tamaño>, dtype)\n",
    "```\n",
    "En caso de no indicarse el tipo, se utilizará *float64*.\n",
    "\n",
    "**Ejemplos:**"
   ]
  },
  {
   "cell_type": "code",
   "execution_count": 1,
   "metadata": {
    "scrolled": true
   },
   "outputs": [],
   "source": [
    "import numpy as np"
   ]
  },
  {
   "cell_type": "code",
   "execution_count": 2,
   "metadata": {
    "scrolled": true
   },
   "outputs": [
    {
     "data": {
      "text/plain": [
       "array([[[[ True,  True,  True,  True,  True,  True],\n",
       "         [ True,  True,  True,  True,  True,  True],\n",
       "         [ True,  True,  True,  True,  True,  True]],\n",
       "\n",
       "        [[ True,  True,  True,  True,  True,  True],\n",
       "         [ True,  True,  True,  True,  True,  True],\n",
       "         [ True,  True,  True,  True,  True,  True]],\n",
       "\n",
       "        [[ True,  True,  True,  True,  True,  True],\n",
       "         [ True,  True,  True,  True,  True,  True],\n",
       "         [ True,  True,  True,  True,  True,  True]],\n",
       "\n",
       "        [[ True,  True,  True,  True,  True,  True],\n",
       "         [ True,  True,  True,  True,  True,  True],\n",
       "         [ True,  True,  True,  True,  True,  True]],\n",
       "\n",
       "        [[ True,  True,  True,  True,  True,  True],\n",
       "         [ True,  True,  True,  True,  True,  True],\n",
       "         [ True,  True,  True,  True,  True,  True]]],\n",
       "\n",
       "\n",
       "       [[[ True,  True,  True,  True,  True,  True],\n",
       "         [ True,  True,  True,  True,  True,  True],\n",
       "         [ True,  True,  True,  True,  True,  True]],\n",
       "\n",
       "        [[ True,  True,  True,  True,  True,  True],\n",
       "         [ True,  True,  True,  True,  True,  True],\n",
       "         [ True,  True,  True,  True,  True,  True]],\n",
       "\n",
       "        [[ True,  True,  True,  True,  True,  True],\n",
       "         [ True,  True,  True,  True,  True,  True],\n",
       "         [ True,  True,  True,  True,  True,  True]],\n",
       "\n",
       "        [[ True,  True,  True,  True,  True,  True],\n",
       "         [ True,  True,  True,  True,  True,  True],\n",
       "         [ True,  True,  True,  True,  True,  True]],\n",
       "\n",
       "        [[ True,  True,  True,  True,  True,  True],\n",
       "         [ True,  True,  True,  True,  True,  True],\n",
       "         [ True,  True,  True,  True,  True,  True]]]])"
      ]
     },
     "execution_count": 2,
     "metadata": {},
     "output_type": "execute_result"
    }
   ],
   "source": [
    "np.ones((2, 5, 3, 6), dtype=np.bool_)"
   ]
  },
  {
   "cell_type": "code",
   "execution_count": 3,
   "metadata": {
    "scrolled": true
   },
   "outputs": [
    {
     "data": {
      "text/plain": [
       "array([[1., 1., 1.],\n",
       "       [1., 1., 1.],\n",
       "       [1., 1., 1.]])"
      ]
     },
     "execution_count": 3,
     "metadata": {},
     "output_type": "execute_result"
    }
   ],
   "source": [
    "np.ones((3,3))"
   ]
  },
  {
   "cell_type": "code",
   "execution_count": 4,
   "metadata": {
    "scrolled": true
   },
   "outputs": [
    {
     "data": {
      "text/plain": [
       "numpy.float64"
      ]
     },
     "execution_count": 4,
     "metadata": {},
     "output_type": "execute_result"
    }
   ],
   "source": [
    "type(np.ones((3,3))[1,1])"
   ]
  },
  {
   "cell_type": "markdown",
   "metadata": {},
   "source": [
    "### Creación de arreglos llenos de números 0.\n",
    "\n",
    "Para crear un arreglo que contenga exclusivamente el número 0 en cada elemento se utiliza la función *np.zeros()*.\n",
    "\n",
    "``` python\n",
    "np.zeros(<tupla indicando el tamaño>, dtype)\n",
    "```\n",
    "En caso de no indicarse el tipo, se utilizará *float64*.\n",
    "\n",
    "**Ejemplos:**"
   ]
  },
  {
   "cell_type": "code",
   "execution_count": 5,
   "metadata": {
    "scrolled": true
   },
   "outputs": [
    {
     "data": {
      "text/plain": [
       "array([[[False, False],\n",
       "        [False, False]],\n",
       "\n",
       "       [[False, False],\n",
       "        [False, False]]])"
      ]
     },
     "execution_count": 5,
     "metadata": {},
     "output_type": "execute_result"
    }
   ],
   "source": [
    "np.zeros((2,2,2), dtype=np.bool)"
   ]
  },
  {
   "cell_type": "code",
   "execution_count": 6,
   "metadata": {
    "scrolled": true
   },
   "outputs": [
    {
     "data": {
      "text/plain": [
       "array([[0., 0., 0.],\n",
       "       [0., 0., 0.],\n",
       "       [0., 0., 0.]])"
      ]
     },
     "execution_count": 6,
     "metadata": {},
     "output_type": "execute_result"
    }
   ],
   "source": [
    "np.zeros((3,3))"
   ]
  },
  {
   "cell_type": "code",
   "execution_count": 7,
   "metadata": {
    "scrolled": false
   },
   "outputs": [
    {
     "data": {
      "text/plain": [
       "numpy.float64"
      ]
     },
     "execution_count": 7,
     "metadata": {},
     "output_type": "execute_result"
    }
   ],
   "source": [
    "type(np.zeros((3,3))[1,1])"
   ]
  },
  {
   "cell_type": "markdown",
   "metadata": {},
   "source": [
    "### Creación de arreglos sin elementos definidos.\n",
    "\n",
    "Para crear un arreglo sin elementos definidos cada elemento se utiliza la función *np.empty()* y *np.ndarray()*.\n",
    "\n",
    "``` python\n",
    "np.empty(<tupla indicando el tamaño>, dtype)\n",
    "np.ndarray(<tupla indicando el tamaño>, dtype)\n",
    "```\n",
    "La función *np.empty()* es similar a *np.zeros()*, mientras que *np.ndarray()* contiene basura.\n",
    "\n",
    "En caso de no indicarse el tipo, se utilizará *float64*.\n",
    "\n",
    "**Ejemplos:**"
   ]
  },
  {
   "cell_type": "code",
   "execution_count": 8,
   "metadata": {
    "scrolled": true
   },
   "outputs": [
    {
     "data": {
      "text/plain": [
       "array([[[False, False],\n",
       "        [False, False]],\n",
       "\n",
       "       [[False, False],\n",
       "        [False, False]]])"
      ]
     },
     "execution_count": 8,
     "metadata": {},
     "output_type": "execute_result"
    }
   ],
   "source": [
    "np.empty((2,2,2), dtype=np.bool)"
   ]
  },
  {
   "cell_type": "code",
   "execution_count": 9,
   "metadata": {
    "scrolled": true
   },
   "outputs": [
    {
     "data": {
      "text/plain": [
       "array([['', '', ''],\n",
       "       ['', '', ''],\n",
       "       ['', '', '']], dtype='<U1')"
      ]
     },
     "execution_count": 9,
     "metadata": {},
     "output_type": "execute_result"
    }
   ],
   "source": [
    "np.zeros((3,3), dtype=np.unicode_)"
   ]
  },
  {
   "cell_type": "code",
   "execution_count": 10,
   "metadata": {
    "scrolled": false
   },
   "outputs": [
    {
     "data": {
      "text/plain": [
       "numpy.float64"
      ]
     },
     "execution_count": 10,
     "metadata": {},
     "output_type": "execute_result"
    }
   ],
   "source": [
    "type(np.empty((3,3))[1,1])"
   ]
  },
  {
   "cell_type": "code",
   "execution_count": 11,
   "metadata": {
    "scrolled": true
   },
   "outputs": [
    {
     "data": {
      "text/plain": [
       "array([[6.91056850e-310, 1.31831734e-316],\n",
       "       [1.58101007e-322, 6.91056935e-310]])"
      ]
     },
     "execution_count": 11,
     "metadata": {},
     "output_type": "execute_result"
    }
   ],
   "source": [
    "np.ndarray((2,2))"
   ]
  },
  {
   "cell_type": "code",
   "execution_count": 12,
   "metadata": {
    "scrolled": true
   },
   "outputs": [
    {
     "data": {
      "text/plain": [
       "array([['', ''],\n",
       "       ['', '']], dtype='>U10')"
      ]
     },
     "execution_count": 12,
     "metadata": {},
     "output_type": "execute_result"
    }
   ],
   "source": [
    "np.ndarray((2,2), dtype='>U10')"
   ]
  },
  {
   "cell_type": "markdown",
   "metadata": {},
   "source": [
    "### Creación de un arreglo aleatorio.\n",
    "\n",
    "Numpy cuenta con el paquete *np.random*, el cual permite crear arreglos aleatorios de distintas índoles e incluso ajustándose a ciertas distribuciones probabilísitcas).\n",
    "\n",
    "Para ilustrar el uso de dicho módulo se explorarán las siguientes funciones:\n",
    "\n",
    "* La función *np.random.rand()* crea un arreglo cuyos elementos son aleatorios.\n",
    "* La función *np.random.randn()* crea un arreglo cuyos elementos son aleatorios a partir de una distribución normal estándar.\n",
    "* La función *np.random.randint()* crea un arreglo de números enteros aleatorios a partir de un límite inferior y uno superior.\n",
    "\n",
    "Las sintaxis son las siguientes:\n",
    "\n",
    "``` python\n",
    "np.random.rand(<tamaño>)\n",
    "np.random.randn(<tamaño>)\n",
    "np.random.randint(<limite inferior>, <limite superior>, <tupla indicando el tamaño>)\n",
    "```\n",
    "\n",
    "**Ejemplos:**"
   ]
  },
  {
   "cell_type": "code",
   "execution_count": null,
   "metadata": {
    "scrolled": false
   },
   "outputs": [],
   "source": [
    "help(np.random)"
   ]
  },
  {
   "cell_type": "code",
   "execution_count": 14,
   "metadata": {
    "scrolled": true
   },
   "outputs": [
    {
     "data": {
      "text/plain": [
       "array([[0.25763273, 0.19335349],\n",
       "       [0.66409946, 0.12561012]])"
      ]
     },
     "execution_count": 14,
     "metadata": {},
     "output_type": "execute_result"
    }
   ],
   "source": [
    "np.random.rand(2,2)"
   ]
  },
  {
   "cell_type": "code",
   "execution_count": 15,
   "metadata": {
    "scrolled": true
   },
   "outputs": [
    {
     "data": {
      "text/plain": [
       "array([[4, 4, 4],\n",
       "       [3, 3, 4],\n",
       "       [3, 1, 4]])"
      ]
     },
     "execution_count": 15,
     "metadata": {},
     "output_type": "execute_result"
    }
   ],
   "source": [
    "np.random.randint(1,5,(3,3))"
   ]
  },
  {
   "cell_type": "code",
   "execution_count": 16,
   "metadata": {
    "scrolled": true
   },
   "outputs": [
    {
     "data": {
      "text/plain": [
       "array([[-0.36158415, -0.23596908,  0.52882867, -1.28969353, -0.84896928,\n",
       "         1.30872094, -0.20271612, -0.00826881, -1.20599754,  0.56444867,\n",
       "        -0.93037179,  0.23289594, -0.85172803,  1.32351197, -2.08683291],\n",
       "       [ 1.44069043, -0.65352641, -1.57008106, -1.50403293, -1.4126041 ,\n",
       "        -0.97822584, -0.12646068,  0.13079795, -0.72636232,  0.76555548,\n",
       "         0.13297455, -1.44176888,  0.18739377, -1.91782788,  0.44984763],\n",
       "       [ 1.27508165, -0.92726507, -1.71377353, -0.92450805,  0.32766564,\n",
       "         0.11747776, -0.65581876,  1.52946144,  0.90817605, -0.04970863,\n",
       "         1.34405395,  0.32935763,  0.30214144,  1.24765706,  0.59572463],\n",
       "       [-0.81486823, -0.00814841, -2.33103938,  0.40896453,  0.27012062,\n",
       "        -1.37803377,  0.81880825,  1.20036293, -0.38659482,  0.74969305,\n",
       "        -0.68821919, -2.37344264,  0.83115201, -1.16907082,  0.34334446],\n",
       "       [-0.03261264, -0.20062356, -0.62381908,  2.01883748, -1.53243929,\n",
       "        -0.58139935,  1.83984476,  1.69998719,  0.62318736,  0.91370412,\n",
       "        -1.14310195, -0.62630028,  0.93146507,  0.72911753, -0.22173577],\n",
       "       [-0.20936816,  0.78204132,  0.73916067,  1.84167113,  2.14462317,\n",
       "        -1.55637923, -1.20698212, -0.37202718, -0.61414325,  0.50156202,\n",
       "        -0.17735265, -1.14843242, -0.56003393,  2.01220773,  0.78201746],\n",
       "       [-0.54090819, -1.04003682, -0.15418008,  0.12068642,  0.15357747,\n",
       "        -0.95358941,  0.19490382,  1.24858775,  0.21323225, -1.50417272,\n",
       "        -1.76067692,  0.03826111,  0.88404274, -1.7607886 ,  0.67452247],\n",
       "       [ 2.36194653, -0.36901684,  0.19474941,  1.09145357, -0.65272141,\n",
       "        -0.53143441,  0.05908156,  0.48497585,  0.85176525, -2.09319987,\n",
       "        -0.7735464 ,  0.7273403 ,  0.18383464,  0.72209589,  1.7158893 ],\n",
       "       [-0.56985402, -0.42541405, -0.19867031,  1.32981209,  0.22406599,\n",
       "         0.48536953, -0.95702117,  1.06031731, -0.16533181,  1.06615441,\n",
       "        -1.49105234,  0.53651874,  0.53374731, -1.74412681,  0.77048954],\n",
       "       [-0.49460666,  0.63632316,  0.8423867 ,  0.59815345, -1.95787274,\n",
       "        -0.74541827,  0.11982636,  0.4118318 ,  0.68236675,  0.53123006,\n",
       "        -1.22442601, -0.86000681,  0.31894769, -1.88039075, -0.7495774 ],\n",
       "       [-1.37624892, -0.89249215, -0.53203442, -0.4517811 , -0.52835097,\n",
       "        -1.05740298,  0.87888353, -0.60107819,  1.00195445,  0.32094836,\n",
       "         0.11250901, -0.12140159, -0.55212231, -0.79263661, -0.37434948],\n",
       "       [-2.33927066,  0.68062639,  0.58233722,  0.7280881 , -0.15056337,\n",
       "         1.07261418, -0.7078617 ,  1.60690991, -0.34182849, -1.68425867,\n",
       "         0.62589928,  0.0497236 , -1.34253176,  0.28918618, -3.19671172],\n",
       "       [ 0.17698615, -0.39284693,  1.67863235, -1.14072862, -0.39845884,\n",
       "        -0.20958571, -1.35009865,  1.41673937,  0.27295229,  1.12740151,\n",
       "        -1.6361794 , -0.94889685,  2.44873825,  0.31750419, -0.01974638],\n",
       "       [ 0.53767   , -0.80810432, -1.56192495, -0.89201305, -0.98814792,\n",
       "         0.44568608,  1.88411958,  0.15902133, -0.82694731, -0.4086927 ,\n",
       "        -0.39637338,  0.44561642,  0.83141845, -2.16348965, -0.75293441],\n",
       "       [ 0.98274009,  1.37007568,  1.25371513,  0.59725318, -0.35215972,\n",
       "        -1.3145229 , -1.04907257,  1.2498072 ,  1.61557799, -0.26917979,\n",
       "        -1.43769939,  0.52628441,  0.45040164,  1.39065109, -0.90436673]])"
      ]
     },
     "execution_count": 16,
     "metadata": {},
     "output_type": "execute_result"
    }
   ],
   "source": [
    "np.random.randn(15,15)"
   ]
  },
  {
   "cell_type": "markdown",
   "metadata": {},
   "source": [
    "## Copiado de un arreglo.\n",
    "\n",
    "Todos los arreglos cuentan con el método *copy()*, el cual permite crear una arreglo totalmente nuevo, evitando el efecto aliasing.\n",
    "\n",
    "**Ejemplo:**"
   ]
  },
  {
   "cell_type": "code",
   "execution_count": 17,
   "metadata": {
    "scrolled": true
   },
   "outputs": [],
   "source": [
    "arreglo_1 = np.array(([1, 2], [3, 4]))"
   ]
  },
  {
   "cell_type": "code",
   "execution_count": 18,
   "metadata": {},
   "outputs": [
    {
     "data": {
      "text/plain": [
       "array([[1, 2],\n",
       "       [3, 4]])"
      ]
     },
     "execution_count": 18,
     "metadata": {},
     "output_type": "execute_result"
    }
   ],
   "source": [
    "arreglo_1"
   ]
  },
  {
   "cell_type": "code",
   "execution_count": 19,
   "metadata": {
    "scrolled": true
   },
   "outputs": [],
   "source": [
    "arreglo_2 = arreglo_1.copy()"
   ]
  },
  {
   "cell_type": "code",
   "execution_count": 20,
   "metadata": {},
   "outputs": [
    {
     "data": {
      "text/plain": [
       "array([[1, 2],\n",
       "       [3, 4]])"
      ]
     },
     "execution_count": 20,
     "metadata": {},
     "output_type": "execute_result"
    }
   ],
   "source": [
    "arreglo_2"
   ]
  },
  {
   "cell_type": "code",
   "execution_count": 21,
   "metadata": {
    "scrolled": true
   },
   "outputs": [
    {
     "data": {
      "text/plain": [
       "False"
      ]
     },
     "execution_count": 21,
     "metadata": {},
     "output_type": "execute_result"
    }
   ],
   "source": [
    "arreglo_1 is arreglo_2"
   ]
  },
  {
   "cell_type": "code",
   "execution_count": 22,
   "metadata": {
    "scrolled": true
   },
   "outputs": [
    {
     "data": {
      "text/plain": [
       "array([[ True,  True],\n",
       "       [ True,  True]])"
      ]
     },
     "execution_count": 22,
     "metadata": {},
     "output_type": "execute_result"
    }
   ],
   "source": [
    "arreglo_1 == arreglo_2 "
   ]
  },
  {
   "cell_type": "markdown",
   "metadata": {},
   "source": [
    "## Escritura y lectura de arreglos en el sistema de archivos.\n",
    "\n",
    "### Escritura de arreglos.\n",
    "Numpy cuenta con varias funciones para almacenar arreglos en el sistema de archivos local.\n",
    "\n",
    "* *np.save()* permite guardar un arreglo en un archivo con extensión *.npy*.\n",
    "* *np.savetxt()* permite guardar un arreglo en un archivo  de texto.\n",
    "* *np.savez()* permite guardar varios arreglo en un archivo con extensión *.npz*.\n",
    "* *np.savez_compressed()* permite guardar varios arreglos en un archivo con extensión *.npz* comprimido.\n",
    "\n",
    "Las sintaxis son:\n",
    "\n",
    "``` python\n",
    "np.save('<ruta>' <arreglo>)\n",
    "np.savetxt('<ruta>' <arreglo>, delimiter='<caracter delimitador>')\n",
    "np.savez('<ruta>' <arreglo 1>, <arreglo 2>,... <arreglo n>)\n",
    "np.savez_compressed('<ruta>' <arreglo 1>, <arreglo 2>,... <arreglo n>)\n",
    "```\n",
    "\n",
    "\n",
    "**Ejemplos:**"
   ]
  },
  {
   "cell_type": "code",
   "execution_count": 23,
   "metadata": {
    "scrolled": true
   },
   "outputs": [],
   "source": [
    "np.save('arreglo_1', arreglo_1)"
   ]
  },
  {
   "cell_type": "code",
   "execution_count": 24,
   "metadata": {
    "scrolled": true
   },
   "outputs": [
    {
     "name": "stdout",
     "output_type": "stream",
     "text": [
      "arreglo_1.npy\r\n"
     ]
    }
   ],
   "source": [
    "%ls arreglo_1.npy"
   ]
  },
  {
   "cell_type": "code",
   "execution_count": 25,
   "metadata": {
    "scrolled": true
   },
   "outputs": [
    {
     "name": "stdout",
     "output_type": "stream",
     "text": [
      "�NUMPY\u0001\u0000v\u0000{'descr': '<i8', 'fortran_order': False, 'shape': (2, 2), }                                                          \r\n",
      "\u0001\u0000\u0000\u0000\u0000\u0000\u0000\u0000\u0002\u0000\u0000\u0000\u0000\u0000\u0000\u0000\u0003\u0000\u0000\u0000\u0000\u0000\u0000\u0000\u0004\u0000\u0000\u0000\u0000\u0000\u0000\u0000"
     ]
    }
   ],
   "source": [
    "%cat arreglo_1.npy"
   ]
  },
  {
   "cell_type": "code",
   "execution_count": 26,
   "metadata": {
    "scrolled": true
   },
   "outputs": [],
   "source": [
    "np.savetxt('arreglo_1.txt', arreglo_1)"
   ]
  },
  {
   "cell_type": "code",
   "execution_count": 27,
   "metadata": {
    "scrolled": true
   },
   "outputs": [
    {
     "name": "stdout",
     "output_type": "stream",
     "text": [
      "1.000000000000000000e+00 2.000000000000000000e+00\r\n",
      "3.000000000000000000e+00 4.000000000000000000e+00\r\n"
     ]
    }
   ],
   "source": [
    "%cat arreglo_1.txt"
   ]
  },
  {
   "cell_type": "code",
   "execution_count": 29,
   "metadata": {
    "scrolled": true
   },
   "outputs": [],
   "source": [
    "np.savez('arreglos', arreglo_1, arreglo_2)"
   ]
  },
  {
   "cell_type": "code",
   "execution_count": 30,
   "metadata": {
    "scrolled": true
   },
   "outputs": [
    {
     "name": "stdout",
     "output_type": "stream",
     "text": [
      "arreglos.npz\r\n"
     ]
    }
   ],
   "source": [
    "%ls arreglos.npz"
   ]
  },
  {
   "cell_type": "code",
   "execution_count": 31,
   "metadata": {
    "scrolled": true
   },
   "outputs": [
    {
     "name": "stdout",
     "output_type": "stream",
     "text": [
      "PK\u0003\u0004\u0014\u0000\u0000\u0000\u0000\u0000\u0000\u0000!\u0000�DK[�\u0000\u0000\u0000�\u0000\u0000\u0000\t\u0000\u0000\u0000arr_0.npy�NUMPY\u0001\u0000v\u0000{'descr': '<i8', 'fortran_order': False, 'shape': (2, 2), }                                                          \r\n",
      "\u0001\u0000\u0000\u0000\u0000\u0000\u0000\u0000\u0002\u0000\u0000\u0000\u0000\u0000\u0000\u0000\u0003\u0000\u0000\u0000\u0000\u0000\u0000\u0000\u0004\u0000\u0000\u0000\u0000\u0000\u0000\u0000PK\u0003\u0004\u0014\u0000\u0000\u0000\u0000\u0000\u0000\u0000!\u0000�DK[�\u0000\u0000\u0000�\u0000\u0000\u0000\t\u0000\u0000\u0000arr_1.npy�NUMPY\u0001\u0000v\u0000{'descr': '<i8', 'fortran_order': False, 'shape': (2, 2), }                                                          \r\n",
      "\u0001\u0000\u0000\u0000\u0000\u0000\u0000\u0000\u0002\u0000\u0000\u0000\u0000\u0000\u0000\u0000\u0003\u0000\u0000\u0000\u0000\u0000\u0000\u0000\u0004\u0000\u0000\u0000\u0000\u0000\u0000\u0000PK\u0001\u0002\u0014\u0003\u0014\u0000\u0000\u0000\u0000\u0000\u0000\u0000!\u0000�DK[�\u0000\u0000\u0000�\u0000\u0000\u0000\t\u0000\u0000\u0000\u0000\u0000\u0000\u0000\u0000\u0000\u0000\u0000�\u0001\u0000\u0000\u0000\u0000arr_0.npyPK\u0001\u0002\u0014\u0003\u0014\u0000\u0000\u0000\u0000\u0000\u0000\u0000!\u0000�DK[�\u0000\u0000\u0000�\u0000\u0000\u0000\t\u0000\u0000\u0000\u0000\u0000\u0000\u0000\u0000\u0000\u0000\u0000�\u0001�\u0000\u0000\u0000arr_1.npyPK\u0005\u0006\u0000\u0000\u0000\u0000\u0002\u0000\u0002\u0000n\u0000\u0000\u0000�\u0001\u0000\u0000\u0000\u0000"
     ]
    }
   ],
   "source": [
    "%cat arreglos.npz"
   ]
  },
  {
   "cell_type": "markdown",
   "metadata": {},
   "source": [
    "### Lectura de arreglos.\n",
    "\n",
    "Para leer archivos con arreglos se utilizan:\n",
    "\n",
    "* *np.load()* permite leer arreglos a partir de un archivo con extensión *.npy* o *npz*.\n",
    "* *np.loadtxt()* permite leer un arreglo en un archivo  de texto.\n",
    "Las sintaxis son:\n",
    "\n",
    "``` python\n",
    "np.load('<ruta>')\n",
    "np.loadtxt('<ruta>', delimiter='<caracter delimitador>')\n",
    "```\n",
    "\n",
    "**Ejemplos:**"
   ]
  },
  {
   "cell_type": "code",
   "execution_count": 36,
   "metadata": {
    "scrolled": true
   },
   "outputs": [
    {
     "data": {
      "text/plain": [
       "<numpy.lib.npyio.NpzFile at 0x7f36300a4cf8>"
      ]
     },
     "execution_count": 36,
     "metadata": {},
     "output_type": "execute_result"
    }
   ],
   "source": [
    "np.load('arreglos.npz')"
   ]
  },
  {
   "cell_type": "code",
   "execution_count": 33,
   "metadata": {
    "scrolled": true
   },
   "outputs": [
    {
     "data": {
      "text/plain": [
       "array([[1., 2.],\n",
       "       [3., 4.]])"
      ]
     },
     "execution_count": 33,
     "metadata": {},
     "output_type": "execute_result"
    }
   ],
   "source": [
    "np.loadtxt('arreglo_1.txt')"
   ]
  },
  {
   "cell_type": "markdown",
   "metadata": {},
   "source": [
    "<p style=\"text-align: center\"><a rel=\"license\" href=\"http://creativecommons.org/licenses/by/4.0/\"><img alt=\"Licencia Creative Commons\" style=\"border-width:0\" src=\"https://i.creativecommons.org/l/by/4.0/80x15.png\" /></a><br />Esta obra está bajo una <a rel=\"license\" href=\"http://creativecommons.org/licenses/by/4.0/\">Licencia Creative Commons Atribución 4.0 Internacional</a>.</p>\n",
    "<p style=\"text-align: center\">&copy; José Luis Chiquete Valdivieso. 2018.</p>"
   ]
  }
 ],
 "metadata": {
  "kernelspec": {
   "display_name": "Python 3",
   "language": "python",
   "name": "python3"
  },
  "language_info": {
   "codemirror_mode": {
    "name": "ipython",
    "version": 3
   },
   "file_extension": ".py",
   "mimetype": "text/x-python",
   "name": "python",
   "nbconvert_exporter": "python",
   "pygments_lexer": "ipython3",
   "version": "3.6.6"
  }
 },
 "nbformat": 4,
 "nbformat_minor": 2
}
