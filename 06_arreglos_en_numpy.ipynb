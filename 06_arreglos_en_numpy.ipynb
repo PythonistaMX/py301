{
 "cells": [
  {
   "cell_type": "markdown",
   "metadata": {},
   "source": [
    "[![imagenes](imagenes/pythonista.png)](https://pythonista.io)"
   ]
  },
  {
   "cell_type": "markdown",
   "metadata": {},
   "source": [
    "## Creación de arreglos.\n",
    "\n",
    "Además de *np.array* es posible crear arreglos con ciertas características particulares."
   ]
  },
  {
   "cell_type": "markdown",
   "metadata": {},
   "source": [
    "### Creación de arreglos llenos de números 1.\n",
    "\n",
    "Para crear un arreglo que contenga exclusivamente el número 1 en cada elemento se utiliza la función *np.ones()*.\n",
    "\n",
    "``` python\n",
    "np.ones(<tupla indicando el tamaño>, dtype)\n",
    "```\n",
    "En caso de no indicarse el tipo, se utilizará *float64*.\n",
    "\n",
    "**Ejemplos:**"
   ]
  },
  {
   "cell_type": "code",
   "execution_count": null,
   "metadata": {
    "scrolled": true
   },
   "outputs": [],
   "source": [
    "import numpy as np"
   ]
  },
  {
   "cell_type": "code",
   "execution_count": null,
   "metadata": {
    "scrolled": true
   },
   "outputs": [],
   "source": [
    "np.ones((2,5,3, 6), dtype=np.bool)"
   ]
  },
  {
   "cell_type": "code",
   "execution_count": null,
   "metadata": {
    "scrolled": true
   },
   "outputs": [],
   "source": [
    "np.ones((3,3))"
   ]
  },
  {
   "cell_type": "code",
   "execution_count": null,
   "metadata": {
    "scrolled": true
   },
   "outputs": [],
   "source": [
    "type(np.ones((3,3))[1,1])"
   ]
  },
  {
   "cell_type": "markdown",
   "metadata": {},
   "source": [
    "### Creación de arreglos llenos de números 0.\n",
    "\n",
    "Para crear un arreglo que contenga exclusivamente el número 0 en cada elemento se utiliza la función *np.zeros()*.\n",
    "\n",
    "``` python\n",
    "np.zeros(<tupla indicando el tamaño>, dtype)\n",
    "```\n",
    "En caso de no indicarse el tipo, se utilizará *float64*.\n",
    "\n",
    "**Ejemplos:**"
   ]
  },
  {
   "cell_type": "code",
   "execution_count": null,
   "metadata": {
    "scrolled": true
   },
   "outputs": [],
   "source": [
    "np.zeros((2,2,2), dtype=np.bool)"
   ]
  },
  {
   "cell_type": "code",
   "execution_count": null,
   "metadata": {
    "scrolled": true
   },
   "outputs": [],
   "source": [
    "np.zeros((3,3))"
   ]
  },
  {
   "cell_type": "code",
   "execution_count": null,
   "metadata": {
    "scrolled": false
   },
   "outputs": [],
   "source": [
    "type(np.zeros((3,3))[1,1])"
   ]
  },
  {
   "cell_type": "markdown",
   "metadata": {},
   "source": [
    "### Creación de arreglos sin elementos definidos.\n",
    "\n",
    "Para crear un arreglo sin elementos definidos cada elemento se utiliza la función *np.empty()* y *np.ndarray()*.\n",
    "\n",
    "``` python\n",
    "np.empty(<tupla indicando el tamaño>, dtype)\n",
    "np.ndarray(<tupla indicando el tamaño>, dtype)\n",
    "```\n",
    "La función *np.empty()* es similar a *np.zeros()*, mientras que *np.ndarray()* contiene basura.\n",
    "\n",
    "En caso de no indicarse el tipo, se utilizará *float64*.\n",
    "\n",
    "**Ejemplos:**"
   ]
  },
  {
   "cell_type": "code",
   "execution_count": null,
   "metadata": {
    "scrolled": true
   },
   "outputs": [],
   "source": [
    "np.empty((2,2,2), dtype=np.bool)"
   ]
  },
  {
   "cell_type": "code",
   "execution_count": null,
   "metadata": {
    "scrolled": true
   },
   "outputs": [],
   "source": [
    "np.zeros((3,3), dtype=np.unicode_)"
   ]
  },
  {
   "cell_type": "code",
   "execution_count": null,
   "metadata": {
    "scrolled": false
   },
   "outputs": [],
   "source": [
    "type(np.empty((3,3))[1,1])"
   ]
  },
  {
   "cell_type": "code",
   "execution_count": null,
   "metadata": {
    "scrolled": true
   },
   "outputs": [],
   "source": [
    "np.ndarray((2,2))"
   ]
  },
  {
   "cell_type": "code",
   "execution_count": null,
   "metadata": {
    "scrolled": true
   },
   "outputs": [],
   "source": [
    "np.ndarray((2,2), dtype='>U10')"
   ]
  },
  {
   "cell_type": "markdown",
   "metadata": {},
   "source": [
    "### Creación de un arreglo aleatorio.\n",
    "\n",
    "Numpy cuenta con el paquete *np.random*, el cual permite crear arreglos aleatorios de distintas índoles e incluso ajustándose a ciertas distribuciones probabilísitcas).\n",
    "\n",
    "Para ilustrar el uso de dicho módulo se explorarán las siguientes funciones:\n",
    "\n",
    "* La función *np.random.rand()* crea un arreglo cuyos elementos son aleatorios.\n",
    "* La función *np.random.randn()* crea un arreglo cuyos elementos son aleatorios a partir de una distribución normal estándar.\n",
    "* La función *np.random.randint()* crea un arreglo de números enteros aleatorios a partir de un límite inferior y uno superior.\n",
    "\n",
    "Las sintaxis son las siguientes:\n",
    "\n",
    "``` python\n",
    "np.random.rand(<tamaño>)\n",
    "np.random.randn(<tamaño>)\n",
    "np.random.randint(<limite inferior>, <limite superior>, <tupla indicando el tamaño>)\n",
    "```\n",
    "\n",
    "**Ejemplos:**"
   ]
  },
  {
   "cell_type": "code",
   "execution_count": null,
   "metadata": {
    "scrolled": false
   },
   "outputs": [],
   "source": [
    "help(np.random)"
   ]
  },
  {
   "cell_type": "code",
   "execution_count": null,
   "metadata": {
    "scrolled": true
   },
   "outputs": [],
   "source": [
    "np.random.rand(2,2)"
   ]
  },
  {
   "cell_type": "code",
   "execution_count": null,
   "metadata": {
    "scrolled": true
   },
   "outputs": [],
   "source": [
    "np.random.randint(1,5,(3,3))"
   ]
  },
  {
   "cell_type": "code",
   "execution_count": null,
   "metadata": {
    "scrolled": true
   },
   "outputs": [],
   "source": [
    "np.random.randn(15,15)"
   ]
  },
  {
   "cell_type": "markdown",
   "metadata": {},
   "source": [
    "## Copiado de un arreglo.\n",
    "\n",
    "Todos los arreglos cuentan con el método *copy()*, el cual permite crear una arreglo totalmente nuevo, evitando el efecto aliasing.\n",
    "\n",
    "**Ejemplo:**"
   ]
  },
  {
   "cell_type": "code",
   "execution_count": null,
   "metadata": {
    "scrolled": true
   },
   "outputs": [],
   "source": [
    "arreglo_1 = np.array(([1, 2], [3, 4]))"
   ]
  },
  {
   "cell_type": "code",
   "execution_count": null,
   "metadata": {
    "scrolled": true
   },
   "outputs": [],
   "source": [
    "arreglo_2 = arreglo_1.copy()"
   ]
  },
  {
   "cell_type": "code",
   "execution_count": null,
   "metadata": {
    "scrolled": true
   },
   "outputs": [],
   "source": [
    "arreglo_1 is arreglo_2"
   ]
  },
  {
   "cell_type": "code",
   "execution_count": null,
   "metadata": {
    "scrolled": true
   },
   "outputs": [],
   "source": [
    "arreglo_1 == arreglo_2 "
   ]
  },
  {
   "cell_type": "markdown",
   "metadata": {},
   "source": [
    "## Escritura y lectura de arreglos en el sistema de archivos.\n",
    "\n",
    "### Escritura de arreglos.\n",
    "Numpy cuenta con varias funciones para almacenar arreglos en el sistema de archivos local.\n",
    "\n",
    "* *np.save()* permite guardar un arreglo en un archivo con extensión *.npy*.\n",
    "* *np.savetxt()* permite guardar un arreglo en un archivo  de texto.\n",
    "* *np.savez()* permite guardar varios arreglo en un archivo con extensión *.npz*.\n",
    "* *np.savez_compressed()* permite guardar varios arreglo en un archivo con extensión *.npz* comprimido.\n",
    "\n",
    "Las sintaxis son:\n",
    "\n",
    "``` python\n",
    "np.save('<ruta>' <arreglo>)\n",
    "np.savetxt('<ruta>' <arreglo>, delimiter='<caracter delimitador>')\n",
    "np.savez('<ruta>' <arreglo 1>, <arreglo 2>,... <arreglo n>)\n",
    "np.savez_compressed('<ruta>' <arreglo 1>, <arreglo 2>,... <arreglo n>)\n",
    "```\n",
    "\n",
    "\n",
    "**Ejemplos:**"
   ]
  },
  {
   "cell_type": "code",
   "execution_count": null,
   "metadata": {
    "scrolled": true
   },
   "outputs": [],
   "source": [
    "np.save('arreglo_1', arreglo_1)"
   ]
  },
  {
   "cell_type": "code",
   "execution_count": null,
   "metadata": {
    "scrolled": true
   },
   "outputs": [],
   "source": [
    "%ls arreglo_1.npy"
   ]
  },
  {
   "cell_type": "code",
   "execution_count": null,
   "metadata": {
    "scrolled": true
   },
   "outputs": [],
   "source": [
    "%cat arreglo_1.npy"
   ]
  },
  {
   "cell_type": "code",
   "execution_count": null,
   "metadata": {
    "scrolled": true
   },
   "outputs": [],
   "source": [
    "np.savetxt('arreglo_1.txt', arreglo_1)"
   ]
  },
  {
   "cell_type": "code",
   "execution_count": null,
   "metadata": {
    "scrolled": true
   },
   "outputs": [],
   "source": [
    "%cat arreglo_1.txt"
   ]
  },
  {
   "cell_type": "code",
   "execution_count": null,
   "metadata": {
    "scrolled": true
   },
   "outputs": [],
   "source": [
    "np.savez_('arreglos', arreglo_1, arreglo_2)"
   ]
  },
  {
   "cell_type": "code",
   "execution_count": null,
   "metadata": {
    "scrolled": true
   },
   "outputs": [],
   "source": [
    "%ls arreglos.npz"
   ]
  },
  {
   "cell_type": "code",
   "execution_count": null,
   "metadata": {
    "scrolled": true
   },
   "outputs": [],
   "source": [
    "%cat arreglos.npz"
   ]
  },
  {
   "cell_type": "markdown",
   "metadata": {},
   "source": [
    "### Lectura de arreglos.\n",
    "\n",
    "Para leer archivos con arreglos se utilizan:\n",
    "\n",
    "* *np.load()* permite leer arreglos a partir de un archivo con extensión *.npy* o *npz*.\n",
    "* *np.savetxt()* permite leer un arreglo en un archivo  de texto.\n",
    "\n",
    "Las sintaxis son:\n",
    "\n",
    "``` python\n",
    "np.load('<ruta>')\n",
    "np.loadtxt('<ruta>', delimiter='<caracter delimitador>')\n",
    "```\n",
    "\n",
    "**Ejemplos:**"
   ]
  },
  {
   "cell_type": "code",
   "execution_count": null,
   "metadata": {
    "scrolled": true
   },
   "outputs": [],
   "source": [
    "np.load('arreglos.npz')"
   ]
  },
  {
   "cell_type": "code",
   "execution_count": null,
   "metadata": {
    "scrolled": true
   },
   "outputs": [],
   "source": [
    "np.loadtxt('arreglo_1.txt')"
   ]
  },
  {
   "cell_type": "markdown",
   "metadata": {},
   "source": [
    "<p style=\"text-align: center\"><a rel=\"license\" href=\"http://creativecommons.org/licenses/by/4.0/\"><img alt=\"Licencia Creative Commons\" style=\"border-width:0\" src=\"https://i.creativecommons.org/l/by/4.0/80x15.png\" /></a><br />Esta obra está bajo una <a rel=\"license\" href=\"http://creativecommons.org/licenses/by/4.0/\">Licencia Creative Commons Atribución 4.0 Internacional</a>.</p>\n",
    "<p style=\"text-align: center\">&copy; José Luis Chiquete Valdivieso. 2018.</p>"
   ]
  }
 ],
 "metadata": {
  "kernelspec": {
   "display_name": "Python 3",
   "language": "python",
   "name": "python3"
  },
  "language_info": {
   "codemirror_mode": {
    "name": "ipython",
    "version": 3
   },
   "file_extension": ".py",
   "mimetype": "text/x-python",
   "name": "python",
   "nbconvert_exporter": "python",
   "pygments_lexer": "ipython3",
   "version": "3.6.6"
  }
 },
 "nbformat": 4,
 "nbformat_minor": 2
}
