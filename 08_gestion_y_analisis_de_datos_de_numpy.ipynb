{
 "cells": [
  {
   "cell_type": "markdown",
   "metadata": {},
   "source": [
    "[![imagenes/pythonista.png](imagenes/pythonista.png)](https://pythonista.io)"
   ]
  },
  {
   "cell_type": "markdown",
   "metadata": {},
   "source": [
    "# Gestión y análisis de datos."
   ]
  },
  {
   "cell_type": "code",
   "execution_count": null,
   "metadata": {},
   "outputs": [],
   "source": [
    "import numpy as np"
   ]
  },
  {
   "cell_type": "markdown",
   "metadata": {},
   "source": [
    "Debido a las características de los arreglos de *Numpy* para hacer \"broadcasting\", la biblioteca cuenta con una ampla gama de funciopnes que permiten aoplicarlas a cada uno de los objetos que contiene.\n",
    "\n",
    "La lista de funciones es demasiado extensa como para enumerarlas todas, pero algunas de ellas son:\n"
   ]
  },
  {
   "cell_type": "markdown",
   "metadata": {},
   "source": [
    "## Funciones trigonométricas.\n",
    "\n",
    "* ```np.cos()```\n",
    "* ```np.sin()```\n",
    "* ```np.tan()```\n",
    "* ```np.cosh()```\n",
    "* ```np.sinh()```\n",
    "* ```np.tanh()```\n",
    "* ```np.arccos()```\n",
    "* ```np.arcsin()```\n",
    "* ```np.arctan()```\n",
    "* ```np.arctan2()```\n",
    "* ```np.arccosh()```\n",
    "* ```np.arcsinh()```\n",
    "* ```np.arctanh()```\n",
    "* ```np.arctan2h()```\n",
    "* ```np.deg2rad()```\n",
    "* ```np.degrees()```\n",
    "* ```np.rad2deg()```\n",
    "* ```np.radians()```"
   ]
  },
  {
   "cell_type": "code",
   "execution_count": null,
   "metadata": {},
   "outputs": [],
   "source": [
    "opuesto = np.ones((4,4))"
   ]
  },
  {
   "cell_type": "code",
   "execution_count": null,
   "metadata": {},
   "outputs": [],
   "source": [
    "opuesto"
   ]
  },
  {
   "cell_type": "code",
   "execution_count": null,
   "metadata": {},
   "outputs": [],
   "source": [
    "adyacente = np.ones((4,4))"
   ]
  },
  {
   "cell_type": "code",
   "execution_count": null,
   "metadata": {},
   "outputs": [],
   "source": [
    "adyacente"
   ]
  },
  {
   "cell_type": "code",
   "execution_count": null,
   "metadata": {},
   "outputs": [],
   "source": [
    "angulo = np.arctan2(opuesto, adyacente)"
   ]
  },
  {
   "cell_type": "code",
   "execution_count": null,
   "metadata": {},
   "outputs": [],
   "source": [
    "angulo"
   ]
  },
  {
   "cell_type": "code",
   "execution_count": null,
   "metadata": {},
   "outputs": [],
   "source": [
    "np.degrees(angulo)"
   ]
  },
  {
   "cell_type": "markdown",
   "metadata": {},
   "source": [
    "## Funciones da valor."
   ]
  },
  {
   "cell_type": "markdown",
   "metadata": {},
   "source": [
    "* ```np.abs()```\n",
    "* ```np.ceil()```\n",
    "* ```np.exp()```\n",
    "* ```np.exp2()```\n",
    "* ```np.fix()```\n",
    "* ```np.floor()```\n",
    "* ```np.log()```\n",
    "* ```np.log10()```\n",
    "* ```np.log1p()```\n",
    "* ```np.log2()```\n",
    "* ```np.logaddexp()```\n",
    "* ```np.logaddexp2()```\n",
    "* ```np.round()```"
   ]
  },
  {
   "cell_type": "code",
   "execution_count": null,
   "metadata": {},
   "outputs": [],
   "source": [
    "numeros = np.array([[1.43, -1, .45, -3.41],\n",
    "                   [np.inf, -np.inf, np.inf, np.inf],\n",
    "                   [np.nan, 13.45, 11, 21]])"
   ]
  },
  {
   "cell_type": "code",
   "execution_count": null,
   "metadata": {},
   "outputs": [],
   "source": [
    "np.abs(numeros)"
   ]
  },
  {
   "cell_type": "code",
   "execution_count": null,
   "metadata": {},
   "outputs": [],
   "source": [
    "np.floor(numeros)"
   ]
  },
  {
   "cell_type": "code",
   "execution_count": null,
   "metadata": {},
   "outputs": [],
   "source": [
    "np.ceil(numeros)"
   ]
  },
  {
   "cell_type": "code",
   "execution_count": null,
   "metadata": {},
   "outputs": [],
   "source": [
    "np.round(numeros)"
   ]
  },
  {
   "cell_type": "markdown",
   "metadata": {},
   "source": [
    "## Funciones de evaluación de arreglos.\n",
    "\n",
    "* ```np.is_busday()```\n",
    "* ```np.isclose()```\n",
    "* ```np.iscomplex()```\n",
    "* ```np.isfinite()```\n",
    "* ```np.isin()```\n",
    "* ```np.isinf()```\n",
    "* ```np.isnan()```\n",
    "* ```np.isnat()```\n",
    "* ```np.isneginf()```\n",
    "* ```np.isposinf()```\n",
    "* ```np.isreal()```\n",
    "* ```np.isscalar()```\n",
    "* ```np.issctype()```"
   ]
  },
  {
   "cell_type": "code",
   "execution_count": null,
   "metadata": {},
   "outputs": [],
   "source": [
    "np.isfinite(numeros)"
   ]
  },
  {
   "cell_type": "code",
   "execution_count": null,
   "metadata": {},
   "outputs": [],
   "source": [
    "np.isnan(numeros)"
   ]
  },
  {
   "cell_type": "code",
   "execution_count": null,
   "metadata": {},
   "outputs": [],
   "source": [
    "np.isreal(numeros)"
   ]
  },
  {
   "cell_type": "markdown",
   "metadata": {},
   "source": [
    "## Funciones lógicas."
   ]
  },
  {
   "cell_type": "markdown",
   "metadata": {},
   "source": [
    "* ```np.all()```\n",
    "* ```np.any()```\n",
    "* ```np.logical_and()```\n",
    "* ```np.logical_not()```\n",
    "* ```np.logical_or()```\n",
    "* ```np.logical_xor()```"
   ]
  },
  {
   "cell_type": "code",
   "execution_count": null,
   "metadata": {},
   "outputs": [],
   "source": [
    "booleana = np.array([[0, 1, 1],\n",
    "                   [1, 0, 1],\n",
    "                   [1, 1, 1,]], dtype=np.bool_)"
   ]
  },
  {
   "cell_type": "code",
   "execution_count": null,
   "metadata": {},
   "outputs": [],
   "source": [
    "booleana"
   ]
  },
  {
   "cell_type": "code",
   "execution_count": null,
   "metadata": {},
   "outputs": [],
   "source": [
    "np.any(booleana)"
   ]
  },
  {
   "cell_type": "code",
   "execution_count": null,
   "metadata": {},
   "outputs": [],
   "source": [
    "np.all(booleana)"
   ]
  },
  {
   "cell_type": "code",
   "execution_count": null,
   "metadata": {},
   "outputs": [],
   "source": [
    "np.all(booleana[2])"
   ]
  },
  {
   "cell_type": "code",
   "execution_count": null,
   "metadata": {},
   "outputs": [],
   "source": [
    "np.logical_not(booleana)"
   ]
  },
  {
   "cell_type": "code",
   "execution_count": null,
   "metadata": {},
   "outputs": [],
   "source": [
    "np.logical_or(booleana, True)"
   ]
  },
  {
   "cell_type": "markdown",
   "metadata": {},
   "source": [
    "## Funciones polinomiales."
   ]
  },
  {
   "cell_type": "markdown",
   "metadata": {},
   "source": [
    "* ```np.poly()```\n",
    "* ```np.poly1d()```\n",
    "* ```np.polyadd()```\n",
    "* ```np.polyder()```\n",
    "* ```np.polydiv()```\n",
    "* ```np.polyfit()```\n",
    "* ```np.polyint()```\n",
    "* ```np.polymul()```\n",
    "* ```np.polysub()```\n",
    "* ```np.polyval()```"
   ]
  },
  {
   "cell_type": "markdown",
   "metadata": {},
   "source": [
    "$2x^4 + 4x^3 - 3x^2 + 0.5$"
   ]
  },
  {
   "cell_type": "code",
   "execution_count": null,
   "metadata": {},
   "outputs": [],
   "source": [
    "ecuacion = np.poly1d([2, 4, -3, 0, 0.5])"
   ]
  },
  {
   "cell_type": "markdown",
   "metadata": {},
   "source": [
    "$8x^3 + 12x^2 - 6x$"
   ]
  },
  {
   "cell_type": "code",
   "execution_count": null,
   "metadata": {},
   "outputs": [],
   "source": [
    "np.polyder(ecuacion)"
   ]
  },
  {
   "cell_type": "markdown",
   "metadata": {},
   "source": [
    "$0.4x^5 + x^4 -x^3 + 0.5x$"
   ]
  },
  {
   "cell_type": "code",
   "execution_count": null,
   "metadata": {},
   "outputs": [],
   "source": [
    "np.polyint(ecuacion)"
   ]
  },
  {
   "cell_type": "markdown",
   "metadata": {},
   "source": [
    "## Funciones estadísticas.\n",
    "\n",
    "* ```np.amax()```\n",
    "* ```np amin()```\n",
    "* ```np.argmax()```\n",
    "* ```np.argmin()```\n",
    "* ```np.correlate()```\n",
    "* ```np.corrcoef()```\n",
    "* ```np.count_nonzero()```\n",
    "* ```np.cov()```\n",
    "* ```np.cumprod()```\n",
    "* ```np.cumsum()```\n",
    "* ```np.histogram()```\n",
    "* ```np.histogram2d()```\n",
    "* ```np.histogram_bin_edges()```\n",
    "* ```np.histogramdd()```\n",
    "* ```np.max()```\n",
    "* ```np.mean()```\n",
    "* ```np.median()```\n",
    "* ```np.min()```\n",
    "* ```np.nanargmax()```\n",
    "* ```np.nanargmin()```\n",
    "* ```np.nancumprod()```\n",
    "* ```np.nancumsum()```\n",
    "* ```np.nanmax()```\n",
    "* ```np.nanmean()```\n",
    "* ```np.nanmedian()```\n",
    "* ```np.nanmin()```\n",
    "* ```np.nanpercentile()```\n",
    "* ```np.nanquantile()```\n",
    "* ```np.nanstd()```\n",
    "* ```np.nansum()```\n",
    "* ```np.nanvar()```\n",
    "* ```np.percentile()```\n",
    "* ```np.quantile()```\n",
    "* ```np.std()```\n",
    "* ```np.var()```"
   ]
  },
  {
   "cell_type": "code",
   "execution_count": null,
   "metadata": {},
   "outputs": [],
   "source": [
    "numeros"
   ]
  },
  {
   "cell_type": "code",
   "execution_count": null,
   "metadata": {},
   "outputs": [],
   "source": [
    "np.max(numeros)"
   ]
  },
  {
   "cell_type": "code",
   "execution_count": null,
   "metadata": {},
   "outputs": [],
   "source": [
    "np.nanmax(numeros)"
   ]
  },
  {
   "cell_type": "code",
   "execution_count": null,
   "metadata": {},
   "outputs": [],
   "source": [
    "np.nanmin(numeros)"
   ]
  },
  {
   "cell_type": "code",
   "execution_count": null,
   "metadata": {},
   "outputs": [],
   "source": [
    "np.nanmean(numeros)"
   ]
  },
  {
   "cell_type": "code",
   "execution_count": null,
   "metadata": {},
   "outputs": [],
   "source": [
    "np.nanmean(numeros[0])"
   ]
  },
  {
   "cell_type": "code",
   "execution_count": null,
   "metadata": {},
   "outputs": [],
   "source": [
    "np.nanmean(numeros[2])"
   ]
  },
  {
   "cell_type": "code",
   "execution_count": null,
   "metadata": {},
   "outputs": [],
   "source": [
    "np.nanmean(numeros[1])"
   ]
  },
  {
   "cell_type": "markdown",
   "metadata": {},
   "source": [
    "<p style=\"text-align: center\"><a rel=\"license\" href=\"http://creativecommons.org/licenses/by/4.0/\"><img alt=\"Licencia Creative Commons\" style=\"border-width:0\" src=\"https://i.creativecommons.org/l/by/4.0/80x15.png\" /></a><br />Esta obra está bajo una <a rel=\"license\" href=\"http://creativecommons.org/licenses/by/4.0/\">Licencia Creative Commons Atribución 4.0 Internacional</a>.</p>\n",
    "<p style=\"text-align: center\">&copy; José Luis Chiquete Valdivieso. 2019.</p>"
   ]
  }
 ],
 "metadata": {
  "kernelspec": {
   "display_name": "Python 3",
   "language": "python",
   "name": "python3"
  },
  "language_info": {
   "codemirror_mode": {
    "name": "ipython",
    "version": 3
   },
   "file_extension": ".py",
   "mimetype": "text/x-python",
   "name": "python",
   "nbconvert_exporter": "python",
   "pygments_lexer": "ipython3",
   "version": "3.7.3"
  }
 },
 "nbformat": 4,
 "nbformat_minor": 2
}
