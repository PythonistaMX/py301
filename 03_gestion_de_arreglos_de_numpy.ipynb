{
 "cells": [
  {
   "cell_type": "markdown",
   "metadata": {},
   "source": [
    "[![imagenes](imagenes/pythonista.png)](https://pythonista.io)"
   ]
  },
  {
   "cell_type": "markdown",
   "metadata": {},
   "source": [
    "# Gestión de arreglos de Numpy"
   ]
  },
  {
   "cell_type": "markdown",
   "metadata": {},
   "source": [
    "## Creación de arreglos.\n",
    "\n",
    "Además de *np.array* es posible crear arreglos con ciertas características particulares."
   ]
  },
  {
   "cell_type": "markdown",
   "metadata": {},
   "source": [
    "### Creación de arreglos llenos de números ```1```.\n",
    "\n",
    "Para crear un arreglo que contenga exclusivamente el número ```1``` en cada elemento se utiliza la función ```np.ones()```.\n",
    "\n",
    "```\n",
    "np.ones(<tupla indicando el tamaño>, dtype)\n",
    "```\n",
    "En caso de no indicarse el tipo, se utilizará ```np.float64```."
   ]
  },
  {
   "cell_type": "markdown",
   "metadata": {},
   "source": [
    "**Ejemplos:**"
   ]
  },
  {
   "cell_type": "code",
   "execution_count": null,
   "metadata": {
    "scrolled": true
   },
   "outputs": [],
   "source": [
    "import numpy as np"
   ]
  },
  {
   "cell_type": "code",
   "execution_count": null,
   "metadata": {
    "scrolled": true
   },
   "outputs": [],
   "source": [
    "np.ones((2, 5, 3, 6))"
   ]
  },
  {
   "cell_type": "code",
   "execution_count": null,
   "metadata": {
    "scrolled": true
   },
   "outputs": [],
   "source": [
    "np.ones((3,3))"
   ]
  },
  {
   "cell_type": "code",
   "execution_count": null,
   "metadata": {
    "scrolled": true
   },
   "outputs": [],
   "source": [
    "type(np.ones((3,3))[1,1])"
   ]
  },
  {
   "cell_type": "markdown",
   "metadata": {},
   "source": [
    "### La función ```np.zeros()```.\n",
    "\n",
    "Esta función regresará un arreglo que contiene exclusivamente el número ```0``` en cada elemento.\n",
    "\n",
    "```\n",
    "np.zeros(<tamaño>, dtype)\n",
    "```\n",
    "\n",
    "* Donde <tamaño> es una tupla indicando las dimensiones del arreglo.\n",
    "\n",
    "En caso de no indicarse el tipo, se utilizará ```np.float64```."
   ]
  },
  {
   "cell_type": "markdown",
   "metadata": {},
   "source": [
    "**Ejemplos:**"
   ]
  },
  {
   "cell_type": "code",
   "execution_count": null,
   "metadata": {
    "scrolled": true
   },
   "outputs": [],
   "source": [
    "np.zeros((2,2,2), dtype=np.bool)"
   ]
  },
  {
   "cell_type": "code",
   "execution_count": null,
   "metadata": {
    "scrolled": true
   },
   "outputs": [],
   "source": [
    "np.zeros((3,3))"
   ]
  },
  {
   "cell_type": "code",
   "execution_count": null,
   "metadata": {
    "scrolled": false
   },
   "outputs": [],
   "source": [
    "type(np.zeros((3,3))[1,1])"
   ]
  },
  {
   "cell_type": "markdown",
   "metadata": {},
   "source": [
    "### La función ```np.empty()```.\n",
    "\n",
    "Esta función regresará un arreglo con valores vacíos.\n",
    "\n",
    "```\n",
    "np.empty(<tamaño>, dtype)\n",
    "```\n",
    "\n",
    "* Donde ```<tamaño>``` es una tupla indicando las dimensiones del arreglo.\n",
    "\n",
    "\n",
    "En caso de no indicarse el tipo, se utilizará ```np.float64```."
   ]
  },
  {
   "cell_type": "markdown",
   "metadata": {},
   "source": [
    "**Ejemplos:**"
   ]
  },
  {
   "cell_type": "code",
   "execution_count": null,
   "metadata": {},
   "outputs": [],
   "source": [
    "np.empty((2,2,2))"
   ]
  },
  {
   "cell_type": "code",
   "execution_count": null,
   "metadata": {},
   "outputs": [],
   "source": [
    "np.empty((2,2,2), dtype=np.int8)"
   ]
  },
  {
   "cell_type": "code",
   "execution_count": null,
   "metadata": {
    "scrolled": true
   },
   "outputs": [],
   "source": [
    "np.empty((2,2,2), dtype=np.bool_)"
   ]
  },
  {
   "cell_type": "code",
   "execution_count": null,
   "metadata": {
    "scrolled": true
   },
   "outputs": [],
   "source": [
    "np.empty((3,3), dtype=np.unicode_)"
   ]
  },
  {
   "cell_type": "code",
   "execution_count": null,
   "metadata": {
    "scrolled": false
   },
   "outputs": [],
   "source": [
    "type(np.empty((3,3))[1,1])"
   ]
  },
  {
   "cell_type": "markdown",
   "metadata": {},
   "source": [
    "### La función ```np.ndarray()```.\n",
    "\n",
    "Esta función regresa un arreglo con valores no definidos, por lo general muy cercanos a ```0```.\n",
    "\n",
    "```\n",
    "np.ndarray(<tupla tamaño>, dtype)\n",
    "```\n",
    "\n",
    "* Donde ```<tamaño>``` es una tupla indicando las dimensiones del arreglo.\n",
    "\n",
    "En caso de no indicarse el tipo, se utilizará ```np.float64```.\n"
   ]
  },
  {
   "cell_type": "markdown",
   "metadata": {},
   "source": [
    "**Ejemplos:**"
   ]
  },
  {
   "cell_type": "code",
   "execution_count": null,
   "metadata": {
    "scrolled": true
   },
   "outputs": [],
   "source": [
    "np.ndarray((2,2))"
   ]
  },
  {
   "cell_type": "code",
   "execution_count": null,
   "metadata": {
    "scrolled": true
   },
   "outputs": [],
   "source": [
    "np.ndarray((2,2), dtype='>U10')"
   ]
  },
  {
   "cell_type": "markdown",
   "metadata": {},
   "source": [
    "### Creación de un arreglo aleatorio.\n",
    "\n",
    "Numpy cuenta con el paquete ```np.random```, el cual permite crear arreglos aleatorios de distintas índoles e incluso ajustándose a ciertas distribuciones probabilísitcas).\n",
    "\n",
    "Para ilustrar el uso de dicho módulo se explorarán las siguientes funciones:\n",
    "\n",
    "* La función ```np.random.rand()``` crea un arreglo cuyos elementos son aleatorios.\n",
    "* La función ```np.random.randn()``` crea un arreglo cuyos elementos son aleatorios a partir de una distribución normal estándar.\n",
    "* La función ```np.random.randint()``` crea un arreglo de números enteros aleatorios a partir de un límite inferior y uno superior.\n",
    "\n",
    "Las sintaxis son las siguientes:\n",
    "\n",
    "```\n",
    "np.random.rand(<tamaño>)\n",
    "np.random.randn(<tamaño>)\n",
    "np.random.randint(<limite inferior>, <limite superior>, <tupla indicando el tamaño>)\n",
    "```\n",
    "\n",
    "* Donde ```<tamaño>``` es una tupla indicando las dimensiones del arreglo."
   ]
  },
  {
   "cell_type": "markdown",
   "metadata": {},
   "source": [
    "**Ejemplos:**"
   ]
  },
  {
   "cell_type": "code",
   "execution_count": null,
   "metadata": {
    "scrolled": true
   },
   "outputs": [],
   "source": [
    "np.random.rand(2, 2)"
   ]
  },
  {
   "cell_type": "code",
   "execution_count": null,
   "metadata": {
    "scrolled": true
   },
   "outputs": [],
   "source": [
    "np.random.randint(1, 5, (3, 3))"
   ]
  },
  {
   "cell_type": "code",
   "execution_count": null,
   "metadata": {
    "scrolled": true
   },
   "outputs": [],
   "source": [
    "np.random.randn(15, 15)"
   ]
  },
  {
   "cell_type": "markdown",
   "metadata": {},
   "source": [
    "## Copiado de un arreglo.\n",
    "\n",
    "Todos los arreglos cuentan con el método ```copy()```, el cual permite crear una arreglo totalmente nuevo, evitando el efecto aliasing."
   ]
  },
  {
   "cell_type": "markdown",
   "metadata": {},
   "source": [
    "**Ejemplos:**"
   ]
  },
  {
   "cell_type": "code",
   "execution_count": null,
   "metadata": {
    "scrolled": true
   },
   "outputs": [],
   "source": [
    "arreglo_1 = np.array(([1, 2], [3, 4]))"
   ]
  },
  {
   "cell_type": "code",
   "execution_count": null,
   "metadata": {},
   "outputs": [],
   "source": [
    "arreglo_1"
   ]
  },
  {
   "cell_type": "code",
   "execution_count": null,
   "metadata": {
    "scrolled": true
   },
   "outputs": [],
   "source": [
    "arreglo_2 = arreglo_1.copy()"
   ]
  },
  {
   "cell_type": "code",
   "execution_count": null,
   "metadata": {},
   "outputs": [],
   "source": [
    "arreglo_2"
   ]
  },
  {
   "cell_type": "code",
   "execution_count": null,
   "metadata": {
    "scrolled": true
   },
   "outputs": [],
   "source": [
    "arreglo_1 is arreglo_2"
   ]
  },
  {
   "cell_type": "code",
   "execution_count": null,
   "metadata": {
    "scrolled": true
   },
   "outputs": [],
   "source": [
    "arreglo_1 == arreglo_2 "
   ]
  },
  {
   "cell_type": "markdown",
   "metadata": {},
   "source": [
    "## Escritura y lectura de arreglos en el sistema de archivos.\n",
    "\n",
    "Numpy cuenta con varias funciones para almacenar y extraer arreglos a partir de archivos."
   ]
  },
  {
   "cell_type": "markdown",
   "metadata": {},
   "source": [
    "### Escritura de un arreglo  en un archivo de texto con la función ```np.savetxt()```.\n",
    "\n",
    "La función ```np.savetxt()``` permite guardar un arreglo en un archivo  de texto de forma similar a un archivo *CSV*.\n",
    "\n",
    "```\n",
    "np.savetxt('<ruta>' <arreglo>, delimiter='<caracter delimitador>')\n",
    "```\n",
    "\n",
    "En la que el caracter delimitador por defecto es un espacio."
   ]
  },
  {
   "cell_type": "markdown",
   "metadata": {},
   "source": [
    "**Ejemplo:**"
   ]
  },
  {
   "cell_type": "markdown",
   "metadata": {},
   "source": [
    "* Se creará el arreglo llamado ```arreglo```."
   ]
  },
  {
   "cell_type": "code",
   "execution_count": null,
   "metadata": {},
   "outputs": [],
   "source": [
    "arreglo = np.array(([1, 2], [3, 4]))"
   ]
  },
  {
   "cell_type": "markdown",
   "metadata": {},
   "source": [
    "* El contenido de arreglo será guardado en un archivo de texto llamado ```arreglo.txt```."
   ]
  },
  {
   "cell_type": "code",
   "execution_count": null,
   "metadata": {
    "scrolled": true
   },
   "outputs": [],
   "source": [
    "np.savetxt('arreglo.txt', arreglo)"
   ]
  },
  {
   "cell_type": "code",
   "execution_count": null,
   "metadata": {
    "scrolled": true
   },
   "outputs": [],
   "source": [
    "%cat arreglo.txt"
   ]
  },
  {
   "cell_type": "markdown",
   "metadata": {},
   "source": [
    "### Escritura de un arreglo en un archivo binario con la función ```np.save()```.\n",
    "\n",
    "Esta función es capaz de guardar un arreglo de *Numpy* en formato binario con la extensión ```.npy```.\n",
    "\n",
    "```\n",
    "np.save('<ruta>' <arreglo>)\n",
    "```"
   ]
  },
  {
   "cell_type": "markdown",
   "metadata": {},
   "source": [
    "**Ejemplo:**"
   ]
  },
  {
   "cell_type": "markdown",
   "metadata": {},
   "source": [
    "* A continuación se creará el arreglo con nombre ```arreglo```."
   ]
  },
  {
   "cell_type": "code",
   "execution_count": null,
   "metadata": {},
   "outputs": [],
   "source": [
    "arreglo = np.array(([1, 2], [3, 4]))"
   ]
  },
  {
   "cell_type": "markdown",
   "metadata": {},
   "source": [
    "* Se ejecutará  la función ```np.save()``` para guardar ```arreglo``` en el archivo ```arreglo.npy``` (no es necesario poner la extensión)."
   ]
  },
  {
   "cell_type": "code",
   "execution_count": null,
   "metadata": {
    "scrolled": true
   },
   "outputs": [],
   "source": [
    "np.save('arreglo', arreglo)"
   ]
  },
  {
   "cell_type": "code",
   "execution_count": null,
   "metadata": {
    "scrolled": true
   },
   "outputs": [],
   "source": [
    "%ls arreglo.npy"
   ]
  },
  {
   "cell_type": "code",
   "execution_count": null,
   "metadata": {
    "scrolled": true
   },
   "outputs": [],
   "source": [
    "%cat arreglo.npy"
   ]
  },
  {
   "cell_type": "markdown",
   "metadata": {},
   "source": [
    "### Escritura de varios arreglos en un archivo binario con la función ```np.savez()```.\n",
    "\n",
    "Esta función es capaz de guardar más de un arreglo de *Numpy* en formato binario con la extensión La extensión ```.npz```.\n",
    "\n",
    "```\n",
    "np.savez('<ruta>' <arreglo 1>, <arreglo 2>,... <arreglo n>)\n",
    "```"
   ]
  },
  {
   "cell_type": "markdown",
   "metadata": {},
   "source": [
    "**Ejemplo:**"
   ]
  },
  {
   "cell_type": "markdown",
   "metadata": {},
   "source": [
    "* A continuación se crearán los arreglos con nombre ```arreglo``` y ```otro_arreglo```."
   ]
  },
  {
   "cell_type": "code",
   "execution_count": null,
   "metadata": {},
   "outputs": [],
   "source": [
    "arreglo = np.array(([1, 2], [3, 4]))\n",
    "otro_arreglo = np.array(([5, 6], [7, 8]))"
   ]
  },
  {
   "cell_type": "markdown",
   "metadata": {},
   "source": [
    "* Se ejecutará  la función ```np.savez()``` para guardar ```arreglo``` y ```otro_arreglo``` en el archivo ```arreglos.npz``` (no es necesario poner la extensión)."
   ]
  },
  {
   "cell_type": "code",
   "execution_count": null,
   "metadata": {
    "scrolled": true
   },
   "outputs": [],
   "source": [
    "np.savez('arreglos', arreglo, otro_arreglo)"
   ]
  },
  {
   "cell_type": "code",
   "execution_count": null,
   "metadata": {
    "scrolled": true
   },
   "outputs": [],
   "source": [
    "%ls arreglos.npz"
   ]
  },
  {
   "cell_type": "code",
   "execution_count": null,
   "metadata": {
    "scrolled": true
   },
   "outputs": [],
   "source": [
    "%cat arreglos.npz"
   ]
  },
  {
   "cell_type": "markdown",
   "metadata": {},
   "source": [
    "### Extracción de un arreglo a partir de un archivo de texto con la función  ```np.loadtxt()```.\n",
    "\n",
    "\n",
    "La función ```np.loadtxt()``` permite leer un arreglo en un archivo  de texto.\n",
    "\n",
    "La sintaxis es:\n",
    "\n",
    "```\n",
    "np.loadtxt('<ruta>', delimiter='<caracter delimitador>')\n",
    "```"
   ]
  },
  {
   "cell_type": "markdown",
   "metadata": {},
   "source": [
    "**Ejemplo:**"
   ]
  },
  {
   "cell_type": "code",
   "execution_count": null,
   "metadata": {},
   "outputs": [],
   "source": [
    "np.loadtxt(\"arreglo.txt\")"
   ]
  },
  {
   "cell_type": "markdown",
   "metadata": {},
   "source": [
    "### Extracción de arreglos a partir de un archivo binario con la función  ```np.load()```.\n",
    "\n",
    "La función ```np.load()``` permite leer arreglos a partir de un archivo con extensión ```.npy``` o ```npz```.\n",
    "\n",
    "La sintaxis es:\n",
    "\n",
    "```\n",
    "np.load('<ruta>')\n",
    "```"
   ]
  },
  {
   "cell_type": "markdown",
   "metadata": {},
   "source": [
    "#### Extracción de archivos ```.npy```.\n",
    "\n",
    "En el caso de los archivos ```.npy```, la función ```np.load()``` regresará un arreglo de tipo ```np.ndarray```."
   ]
  },
  {
   "cell_type": "markdown",
   "metadata": {},
   "source": [
    "**Ejemplo:**"
   ]
  },
  {
   "cell_type": "markdown",
   "metadata": {},
   "source": [
    "* La siguiente celda extraerá los datos contenidos en el archivo ```arreglo.npy``` y los regresará al arreglo con nombre ```arreglo_nuevo```."
   ]
  },
  {
   "cell_type": "code",
   "execution_count": null,
   "metadata": {},
   "outputs": [],
   "source": [
    "arreglo_nuevo = np.load('arreglo.npy')"
   ]
  },
  {
   "cell_type": "code",
   "execution_count": null,
   "metadata": {},
   "outputs": [],
   "source": [
    "type(arreglo_nuevo)"
   ]
  },
  {
   "cell_type": "code",
   "execution_count": null,
   "metadata": {},
   "outputs": [],
   "source": [
    "arreglo_nuevo"
   ]
  },
  {
   "cell_type": "markdown",
   "metadata": {},
   "source": [
    "#### Extracción de archivos ```.npz```.\n",
    "\n",
    "En el caso de los archivos ```.npz```, la función ```np.load()``` regresará un objeto del tipo ```numpy.lib.npyio.NpzFile```, el cual permite leer el archivo indicado como argumento y extraer su contenido de forma similar a como lo hace la función ```open()```. \n",
    "\n",
    "Los arreglos pueden ser accedidos ya sea mediante iteraciones con ```for``` o mediante una clave con la siguiente sintaxis:\n",
    "\n",
    "```\n",
    "<objeto>['arr_<n>']\n",
    "```\n",
    "\n",
    "Donde ```<n>``` es el índice del arreglo correspondiente a un número entero que va en orden ascendente a partir de ```0```. "
   ]
  },
  {
   "cell_type": "markdown",
   "metadata": {},
   "source": [
    "**Ejemplo:**"
   ]
  },
  {
   "cell_type": "markdown",
   "metadata": {},
   "source": [
    "* La siguiente celda extraerá los datos contenidos en el archivo ```arreglo.npz``` y los regresará al objeto con nombre ```arreglos_cargados```."
   ]
  },
  {
   "cell_type": "code",
   "execution_count": null,
   "metadata": {},
   "outputs": [],
   "source": [
    "arreglos_cargados = np.load('arreglos.npz')"
   ]
  },
  {
   "cell_type": "code",
   "execution_count": null,
   "metadata": {},
   "outputs": [],
   "source": [
    "type(arreglos_cargados)"
   ]
  },
  {
   "cell_type": "markdown",
   "metadata": {},
   "source": [
    "* A continuación se accederá al primer arreglo de ```arreglos_cargados``` cuya clave es ```['arr_0']```."
   ]
  },
  {
   "cell_type": "code",
   "execution_count": null,
   "metadata": {},
   "outputs": [],
   "source": [
    "arreglos_cargados['arr_0']"
   ]
  },
  {
   "cell_type": "markdown",
   "metadata": {},
   "source": [
    "* A continuación se despelgarán todos los arreglos contenidos en ```arreglos_cargados```."
   ]
  },
  {
   "cell_type": "code",
   "execution_count": null,
   "metadata": {
    "scrolled": true
   },
   "outputs": [],
   "source": [
    "with np.load('arreglos.npz') as datos:\n",
    "    for item in datos: \n",
    "        print(item, datos[item])"
   ]
  },
  {
   "cell_type": "markdown",
   "metadata": {},
   "source": [
    "* A continuación se accederá al archivo ```arreglos.npz``` mediante ```with``` y se extraerán los 2 arreglos que contiene guardándolos en ```arreglo_3``` y ```arreglo_4```."
   ]
  },
  {
   "cell_type": "code",
   "execution_count": null,
   "metadata": {},
   "outputs": [],
   "source": [
    "with np.load('arreglos.npz') as datos:\n",
    "    arreglo_3 = datos['arr_0']\n",
    "    arreglo_4 = datos['arr_1']"
   ]
  },
  {
   "cell_type": "code",
   "execution_count": null,
   "metadata": {},
   "outputs": [],
   "source": [
    "arreglo_3"
   ]
  },
  {
   "cell_type": "code",
   "execution_count": null,
   "metadata": {},
   "outputs": [],
   "source": [
    "arreglo_4"
   ]
  },
  {
   "cell_type": "markdown",
   "metadata": {},
   "source": [
    "<p style=\"text-align: center\"><a rel=\"license\" href=\"http://creativecommons.org/licenses/by/4.0/\"><img alt=\"Licencia Creative Commons\" style=\"border-width:0\" src=\"https://i.creativecommons.org/l/by/4.0/80x15.png\" /></a><br />Esta obra está bajo una <a rel=\"license\" href=\"http://creativecommons.org/licenses/by/4.0/\">Licencia Creative Commons Atribución 4.0 Internacional</a>.</p>\n",
    "<p style=\"text-align: center\">&copy; José Luis Chiquete Valdivieso. 2019.</p>"
   ]
  }
 ],
 "metadata": {
  "kernelspec": {
   "display_name": "Python 3",
   "language": "python",
   "name": "python3"
  },
  "language_info": {
   "codemirror_mode": {
    "name": "ipython",
    "version": 3
   },
   "file_extension": ".py",
   "mimetype": "text/x-python",
   "name": "python",
   "nbconvert_exporter": "python",
   "pygments_lexer": "ipython3",
   "version": "3.6.6"
  }
 },
 "nbformat": 4,
 "nbformat_minor": 2
}
