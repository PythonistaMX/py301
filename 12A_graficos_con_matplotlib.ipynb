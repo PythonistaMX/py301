{
 "cells": [
  {
   "cell_type": "markdown",
   "metadata": {},
   "source": [
    "[![imagenes/pythonista.png](imagenes/pythonista.png)](https://pythonista.io)"
   ]
  },
  {
   "cell_type": "markdown",
   "metadata": {},
   "source": [
    "El paquete Matplotlib comprende una biblioteca muy extensa de herramientas de visualización de datos de diversas índoles.\n",
    "\n",
    "Está inspirado en [ggplot](https://ggplot2.tidyverse.org/) de R y [Matlab](https://www.mathworks.com/products/matlab.html) con el que guarda una sintaxis muy similar.\n",
    "\n",
    "Tanto Pandas como Matlpotlib serán herramientas centrales en futuros cursos sobre análisis de datos.\n",
    "\n",
    "El alcance de este capítulo es ejemplificar de forma simple el uso de Matplotlib.\n",
    "\n",
    "Para saber más sobre la biblioteca, está disponible la [documentación oficial](https://matplotlib.org/users/tutorials.html), que incluye varios tutoriales. "
   ]
  },
  {
   "cell_type": "markdown",
   "metadata": {},
   "source": [
    "## La función *matplotlib.pyplot()*.\n",
    "\n",
    "El componente principal de Matplotlib es *matplotlib.pyplot()*, el cual por convención es importado como *plt()* y para abreviar se utilizará este nombre paa referenciar dicha función.\n",
    "\n",
    "Es mediante *matplotlib.pyplot()* como se accede a la biblioteca de herramientas de Matplotlib."
   ]
  },
  {
   "cell_type": "code",
   "execution_count": null,
   "metadata": {},
   "outputs": [],
   "source": [
    "!pip install matplotlib"
   ]
  },
  {
   "cell_type": "code",
   "execution_count": null,
   "metadata": {},
   "outputs": [],
   "source": [
    "from matplotlib import pyplot as plt"
   ]
  },
  {
   "cell_type": "code",
   "execution_count": null,
   "metadata": {},
   "outputs": [],
   "source": [
    "help(plt)"
   ]
  },
  {
   "cell_type": "markdown",
   "metadata": {},
   "source": [
    "Aún cuando *plt()* es capaz de crear gráficos de gran complejidad, sólo  es necesario ingresar unos pocos datos para poder observar sus funciones básicas.\n",
    "\n",
    "Como es de esperarse, *Matplotib* y *plt()* son compatibles com los tipos y clases de Numpy y Pandas. "
   ]
  },
  {
   "cell_type": "markdown",
   "metadata": {},
   "source": [
    "### Matplolib y las notebooks de Jupyter.\n",
    "\n",
    "Para poder desplegar las gráficas generadas por Matplotlib dentro de una notebook de Jupyter es neseario utilizar el siguiente comando \"mágico\".\n",
    "\n",
    "```\n",
    "%matplotlib inline\n",
    "```"
   ]
  },
  {
   "cell_type": "markdown",
   "metadata": {},
   "source": [
    "**Ejemplos:**\n",
    "\n",
    "Se utilizará la función *numpy.sin()* para crear una gráfica que describa al seno de un ángulo expresado en radianes."
   ]
  },
  {
   "cell_type": "code",
   "execution_count": null,
   "metadata": {},
   "outputs": [],
   "source": [
    "%matplotlib inline"
   ]
  },
  {
   "cell_type": "code",
   "execution_count": null,
   "metadata": {},
   "outputs": [],
   "source": [
    "import numpy as np"
   ]
  },
  {
   "cell_type": "markdown",
   "metadata": {},
   "source": [
    "Primero se define un eje de las x a partir de *numpy.linespace()*. "
   ]
  },
  {
   "cell_type": "code",
   "execution_count": null,
   "metadata": {},
   "outputs": [],
   "source": [
    "x = np.linspace(0, 5, 100)"
   ]
  },
  {
   "cell_type": "code",
   "execution_count": null,
   "metadata": {},
   "outputs": [],
   "source": [
    "x"
   ]
  },
  {
   "cell_type": "markdown",
   "metadata": {},
   "source": [
    "Luego se creará un arreglo que contenga el seno de cada punto de x."
   ]
  },
  {
   "cell_type": "code",
   "execution_count": null,
   "metadata": {},
   "outputs": [],
   "source": [
    "y = np.sin(x)"
   ]
  },
  {
   "cell_type": "markdown",
   "metadata": {},
   "source": [
    "La función *plt.plot()* realizará la gráfica correspondiente."
   ]
  },
  {
   "cell_type": "code",
   "execution_count": null,
   "metadata": {},
   "outputs": [],
   "source": [
    "plt.plot(x, y)"
   ]
  },
  {
   "cell_type": "markdown",
   "metadata": {},
   "source": [
    "En el siguiente ejemplo se ingresarán varias funciones de x.\n",
    "\n",
    "En este caso es una sucesión de pares de series de números que identifican al eje de las x y al eje de las y separados por comas. "
   ]
  },
  {
   "cell_type": "code",
   "execution_count": null,
   "metadata": {},
   "outputs": [],
   "source": [
    "plt.plot(x, np.sin(x),x, x**0.5, x, np.cos(x))"
   ]
  },
  {
   "cell_type": "markdown",
   "metadata": {},
   "source": [
    "Matplotlib permite configurar prácticamente cualquier elemeto de las gráficas que despliegan."
   ]
  },
  {
   "cell_type": "markdown",
   "metadata": {},
   "source": [
    "**Ejemplo:**\n",
    "\n",
    "Se utilizarán *plt.title()*, *plt.xlable()* y *plt.ylable()* para desplegar infomación de la gráfica."
   ]
  },
  {
   "cell_type": "code",
   "execution_count": null,
   "metadata": {},
   "outputs": [],
   "source": [
    "plt.title('Funciones de x')\n",
    "plt.xlabel('Eje de las x')\n",
    "plt.ylabel('y = f(x)')\n",
    "plt.plot(x, np.sin(x), 'k', x, x**0.5, 'bo', x, np.cos(x))"
   ]
  },
  {
   "cell_type": "code",
   "execution_count": null,
   "metadata": {},
   "outputs": [],
   "source": [
    "import matplotlib as mpl\n",
    "from mpl_toolkits.mplot3d import Axes3D\n",
    "import numpy as np\n",
    "import matplotlib.pyplot as plt\n",
    "\n",
    "mpl.rcParams['legend.fontsize'] = 10\n",
    "\n",
    "fig = plt.figure()\n",
    "ax = fig.gca(projection='3d')\n",
    "theta = np.linspace(-4 * np.pi, 4 * np.pi, 100)\n",
    "z = np.linspace(-2, 2, 100)\n",
    "r = z**2 + 1\n",
    "x = r * np.sin(theta)\n",
    "y = r * np.cos(theta)\n",
    "ax.plot(x, y, z, label='parametric curve')\n",
    "ax.legend()\n",
    "\n",
    "plt.show()"
   ]
  },
  {
   "cell_type": "code",
   "execution_count": null,
   "metadata": {},
   "outputs": [],
   "source": [
    "figura = plt.figure()"
   ]
  },
  {
   "cell_type": "code",
   "execution_count": null,
   "metadata": {},
   "outputs": [],
   "source": [
    "help(figura.gca)"
   ]
  },
  {
   "cell_type": "markdown",
   "metadata": {},
   "source": [
    "<p style=\"text-align: center\"><a rel=\"license\" href=\"http://creativecommons.org/licenses/by/4.0/\"><img alt=\"Licencia Creative Commons\" style=\"border-width:0\" src=\"https://i.creativecommons.org/l/by/4.0/80x15.png\" /></a><br />Esta obra está bajo una <a rel=\"license\" href=\"http://creativecommons.org/licenses/by/4.0/\">Licencia Creative Commons Atribución 4.0 Internacional</a>.</p>\n",
    "<p style=\"text-align: center\">&copy; José Luis Chiquete Valdivieso. 2018.</p>"
   ]
  }
 ],
 "metadata": {
  "kernelspec": {
   "display_name": "Python 3",
   "language": "python",
   "name": "python3"
  },
  "language_info": {
   "codemirror_mode": {
    "name": "ipython",
    "version": 3
   },
   "file_extension": ".py",
   "mimetype": "text/x-python",
   "name": "python",
   "nbconvert_exporter": "python",
   "pygments_lexer": "ipython3",
   "version": "3.6.3"
  }
 },
 "nbformat": 4,
 "nbformat_minor": 2
}
