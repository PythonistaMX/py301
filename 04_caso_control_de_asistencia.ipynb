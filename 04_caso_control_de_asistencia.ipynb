{
 "cells": [
  {
   "cell_type": "code",
   "execution_count": 1,
   "metadata": {},
   "outputs": [],
   "source": [
    "from os import listdir\n",
    "import csv"
   ]
  },
  {
   "cell_type": "code",
   "execution_count": 2,
   "metadata": {},
   "outputs": [],
   "source": [
    "def escape(cadena):\n",
    "    while \"\\\\'\" in cadena:\n",
    "        indice = cadena.index(\"\\\\'\")\n",
    "        original = cadena[indice: indice + 4] \n",
    "        cadena = cadena.replace(original, bytes.fromhex(original[-2:]).decode('latin1'))\n",
    "    return cadena"
   ]
  },
  {
   "cell_type": "code",
   "execution_count": 3,
   "metadata": {},
   "outputs": [],
   "source": [
    "def abre_archivo(ruta):\n",
    "    mapa = str.maketrans('áéíóúüàèìòùñ', 'aeiouuaeioun')\n",
    "    with open(ruta, 'r') as archivo:\n",
    "        return set((escape(linea.partition(' (')[0][6:]).strip().lower().translate(mapa)\\\n",
    "                    for linea in archivo.readlines() if '(' in linea and ')\\\\b' in linea))"
   ]
  },
  {
   "cell_type": "code",
   "execution_count": 4,
   "metadata": {},
   "outputs": [],
   "source": [
    "def asistentes(lista):\n",
    "    conjunto = set()\n",
    "    for elemento in lista:\n",
    "        conjunto.update(elemento)\n",
    "    return conjunto"
   ]
  },
  {
   "cell_type": "code",
   "execution_count": 5,
   "metadata": {},
   "outputs": [],
   "source": [
    "def lista_sesiones(sesiones):\n",
    "    alumnos = asistentes(sesiones)\n",
    "    control = {}\n",
    "    for sesion in sesiones:\n",
    "        for alumno in alumnos:\n",
    "            asistio = 0\n",
    "            if alumno in sesion:\n",
    "                asistio = 1\n",
    "            if alumno in control:\n",
    "                control[alumno].append(asistio)\n",
    "                control[alumno][0] += asistio\n",
    "            else:\n",
    "                control[alumno] = [asistio, asistio]\n",
    "    return control"
   ]
  },
  {
   "cell_type": "code",
   "execution_count": 6,
   "metadata": {},
   "outputs": [],
   "source": [
    "def crea_csv(archivos, ruta='relacion.csv'):\n",
    "    conjunto = lista_sesiones([abre_archivo(archivo) for archivo in archivos])\n",
    "    with open(ruta, 'wt') as archivo:\n",
    "        relacion = csv.writer(archivo)\n",
    "        for alumno in conjunto:\n",
    "            fila = [alumno]\n",
    "            fila.extend(conjunto[alumno])\n",
    "            relacion.writerow(fila)"
   ]
  },
  {
   "cell_type": "code",
   "execution_count": 7,
   "metadata": {},
   "outputs": [],
   "source": [
    "def main(directorio='./', extension='.rtf'):\n",
    "    directorio = [directorio + item for item in listdir('data') if item.endswith('.rtf')]\n",
    "    directorio.sort()\n",
    "    crea_csv(directorio)"
   ]
  },
  {
   "cell_type": "code",
   "execution_count": 8,
   "metadata": {},
   "outputs": [
    {
     "name": "stdout",
     "output_type": "stream",
     "text": [
      "['data/Registro de conversaciones 01_15 16_00.rtf', 'data/Registro de conversaciones 01_16 16_43.rtf', 'data/Registro de conversaciones 01_17 18_13.rtf', 'data/Registro de conversaciones 01_18 15_25.rtf'] \n",
      "\n"
     ]
    }
   ],
   "source": [
    "if __name__ == '__main__':\n",
    "    main('data/')"
   ]
  },
  {
   "cell_type": "code",
   "execution_count": null,
   "metadata": {},
   "outputs": [],
   "source": []
  }
 ],
 "metadata": {
  "kernelspec": {
   "display_name": "Python 3",
   "language": "python",
   "name": "python3"
  },
  "language_info": {
   "codemirror_mode": {
    "name": "ipython",
    "version": 3
   },
   "file_extension": ".py",
   "mimetype": "text/x-python",
   "name": "python",
   "nbconvert_exporter": "python",
   "pygments_lexer": "ipython3",
   "version": "3.7.0"
  }
 },
 "nbformat": 4,
 "nbformat_minor": 2
}
