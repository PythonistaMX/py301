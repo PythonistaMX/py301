{
 "cells": [
  {
   "cell_type": "markdown",
   "metadata": {},
   "source": [
    "[![imagenes](imagenes/pythonista.png)](https://pythonista.io)"
   ]
  },
  {
   "cell_type": "markdown",
   "metadata": {},
   "source": [
    "## Indexado y rebanado de elementos en arreglos.\n",
    "\n",
    "El indexado y rebanado de arreglos es similar al utilizado con los objetos tipo ```tuple``` o ```list``` y se utilizan los dos puntos ```:``` para indicar un rango de elementos para cada dimensión, las dimensiones están separadas por comas ```,```:"
   ]
  },
  {
   "cell_type": "markdown",
   "metadata": {},
   "source": [
    "**Ejemplo práctico:**\n",
    "\n",
    "Para realizar una obra de construcción se organizan dos frentes a los que se les asigna una brigada formada por 3 oficiales.\n",
    "El siguiente arreglo indica la organización de las brigadas durante una semana de 5 días consecutivos empezando desde el lunes. \n",
    "Este arreglo es de 3 dimensiones de tamaño (5,2,3).\n",
    "\n",
    "|BRIGADA| Lunes| Martes|Miércoles|Jueves|Viernes|\n",
    "|:--:|:---:|:---:|:---:|:--:|:--:|\n",
    "|1|Juan, Antonio, Ricardo|David, Julian, Ricardo|Arturo, Ricardo, Lucio|Alonso, Julian, Salvador|Lucio, Ramiro, Joaquín|\n",
    "|2|Alonso, Jorge, Salvador|Arturo, Ramiro, Esteban|Jorge, Marco, Juan|Ricardo, Jorge, Esteban|Ricardo, Marco, Juan|\n",
    "\n"
   ]
  },
  {
   "cell_type": "code",
   "execution_count": 1,
   "metadata": {},
   "outputs": [],
   "source": [
    "import numpy as np"
   ]
  },
  {
   "cell_type": "code",
   "execution_count": null,
   "metadata": {},
   "outputs": [],
   "source": [
    "brigadas = np.array([[['Juan', 'Antonio', 'Ricardo'], ['Alonso', 'Jorge', 'Salvador']],\n",
    "                    [['David', 'Julian', 'Ricardo'], ['Arturo', 'Ramiro', 'Esteban']],\n",
    "                    [['Arturo', 'Ricardo', 'Lucio'], ['Jorge', 'Marco', 'Juan']],\n",
    "                    [['Alonso', 'Julian', 'Salvador'], ['Ricardo', 'Jorge', 'Esteban']],\n",
    "                    [['Lucio', 'Ramiro', 'Joaquín'], ['Ricardo', 'Marco', 'Juan']]])"
   ]
  },
  {
   "cell_type": "code",
   "execution_count": null,
   "metadata": {
    "scrolled": true
   },
   "outputs": [],
   "source": [
    "brigadas"
   ]
  },
  {
   "cell_type": "markdown",
   "metadata": {},
   "source": [
    "Para conocer qué brigadas se formaron el martes y miércoles se hace lo siguiente:"
   ]
  },
  {
   "cell_type": "code",
   "execution_count": null,
   "metadata": {
    "scrolled": true
   },
   "outputs": [],
   "source": [
    "brigadas[1:3, :, :]"
   ]
  },
  {
   "cell_type": "markdown",
   "metadata": {},
   "source": [
    "Para conocer cómo estaba formada la brigada en el segundo frente durante los días martes y miércoles se hace lo siguiente."
   ]
  },
  {
   "cell_type": "code",
   "execution_count": null,
   "metadata": {},
   "outputs": [],
   "source": [
    "brigadas[1:3,1,:]"
   ]
  },
  {
   "cell_type": "code",
   "execution_count": null,
   "metadata": {
    "scrolled": true
   },
   "outputs": [],
   "source": [
    "brigadas[1:3,1]"
   ]
  },
  {
   "cell_type": "markdown",
   "metadata": {},
   "source": [
    "Para conocer los primeros 2 brigadistas del segundo frente durante toda la semana, se aplica lop siguiente:"
   ]
  },
  {
   "cell_type": "code",
   "execution_count": null,
   "metadata": {},
   "outputs": [],
   "source": [
    "brigadas[:,1,0:2]"
   ]
  },
  {
   "cell_type": "markdown",
   "metadata": {},
   "source": [
    "## Modificación de los elementos de un arreglo.\n",
    "Para modificar un elemento se utiliza el índice y el operado de asignación (*=*)."
   ]
  },
  {
   "cell_type": "markdown",
   "metadata": {},
   "source": [
    "**Ejemplos:**\n",
    "\n",
    "Para modificar las 2 brigadas del viernes se hace lo siguiente:"
   ]
  },
  {
   "cell_type": "code",
   "execution_count": 2,
   "metadata": {},
   "outputs": [],
   "source": [
    "brigadas = np.array([[['Juan', 'Antonio', 'Ricardo'], ['Alonso', 'Jorge', 'Salvador']],\n",
    "                    [['David', 'Julian', 'Ricardo'], ['Arturo', 'Ramiro', 'Esteban']],\n",
    "                    [['Arturo', 'Ricardo', 'Lucio'], ['Jorge', 'Marco', 'Juan']],\n",
    "                    [['Alonso', 'Julian', 'Salvador'], ['Ricardo', 'Jorge', 'Esteban']],\n",
    "                    [['Lucio', 'Ramiro', 'Joaquín'], ['Ricardo', 'Marco', 'Juan']]])"
   ]
  },
  {
   "cell_type": "code",
   "execution_count": 3,
   "metadata": {},
   "outputs": [],
   "source": [
    "brigadas[4:] = [['Juan', 'Manuel', 'Julian'], \n",
    "               ['Ruben', 'Sergio', 'Pablo']]"
   ]
  },
  {
   "cell_type": "code",
   "execution_count": 4,
   "metadata": {},
   "outputs": [
    {
     "data": {
      "text/plain": [
       "array([[['Juan', 'Antonio', 'Ricardo'],\n",
       "        ['Alonso', 'Jorge', 'Salvador']],\n",
       "\n",
       "       [['David', 'Julian', 'Ricardo'],\n",
       "        ['Arturo', 'Ramiro', 'Esteban']],\n",
       "\n",
       "       [['Arturo', 'Ricardo', 'Lucio'],\n",
       "        ['Jorge', 'Marco', 'Juan']],\n",
       "\n",
       "       [['Alonso', 'Julian', 'Salvador'],\n",
       "        ['Ricardo', 'Jorge', 'Esteban']],\n",
       "\n",
       "       [['Juan', 'Manuel', 'Julian'],\n",
       "        ['Ruben', 'Sergio', 'Pablo']]], dtype='<U8')"
      ]
     },
     "execution_count": 4,
     "metadata": {},
     "output_type": "execute_result"
    }
   ],
   "source": [
    "brigadas"
   ]
  },
  {
   "cell_type": "markdown",
   "metadata": {},
   "source": [
    "Para modificar a la segunda brigada del martes se realiza:"
   ]
  },
  {
   "cell_type": "code",
   "execution_count": 5,
   "metadata": {},
   "outputs": [],
   "source": [
    "brigadas[1,1] = ['Lucio', 'Joaquín', 'Marco']"
   ]
  },
  {
   "cell_type": "code",
   "execution_count": 6,
   "metadata": {},
   "outputs": [
    {
     "data": {
      "text/plain": [
       "array([[['Juan', 'Antonio', 'Ricardo'],\n",
       "        ['Alonso', 'Jorge', 'Salvador']],\n",
       "\n",
       "       [['David', 'Julian', 'Ricardo'],\n",
       "        ['Lucio', 'Joaquín', 'Marco']],\n",
       "\n",
       "       [['Arturo', 'Ricardo', 'Lucio'],\n",
       "        ['Jorge', 'Marco', 'Juan']],\n",
       "\n",
       "       [['Alonso', 'Julian', 'Salvador'],\n",
       "        ['Ricardo', 'Jorge', 'Esteban']],\n",
       "\n",
       "       [['Juan', 'Manuel', 'Julian'],\n",
       "        ['Ruben', 'Sergio', 'Pablo']]], dtype='<U8')"
      ]
     },
     "execution_count": 6,
     "metadata": {},
     "output_type": "execute_result"
    }
   ],
   "source": [
    "brigadas"
   ]
  },
  {
   "cell_type": "markdown",
   "metadata": {},
   "source": [
    "Para modificar a los primeros 2 oficiales de la primera brigada del miércoles se realiza:"
   ]
  },
  {
   "cell_type": "code",
   "execution_count": 7,
   "metadata": {},
   "outputs": [],
   "source": [
    "brigadas[2,0,0:2] = ['Esteban', 'Salvador']"
   ]
  },
  {
   "cell_type": "code",
   "execution_count": 8,
   "metadata": {},
   "outputs": [
    {
     "data": {
      "text/plain": [
       "array([[['Juan', 'Antonio', 'Ricardo'],\n",
       "        ['Alonso', 'Jorge', 'Salvador']],\n",
       "\n",
       "       [['David', 'Julian', 'Ricardo'],\n",
       "        ['Lucio', 'Joaquín', 'Marco']],\n",
       "\n",
       "       [['Esteban', 'Salvador', 'Lucio'],\n",
       "        ['Jorge', 'Marco', 'Juan']],\n",
       "\n",
       "       [['Alonso', 'Julian', 'Salvador'],\n",
       "        ['Ricardo', 'Jorge', 'Esteban']],\n",
       "\n",
       "       [['Juan', 'Manuel', 'Julian'],\n",
       "        ['Ruben', 'Sergio', 'Pablo']]], dtype='<U8')"
      ]
     },
     "execution_count": 8,
     "metadata": {},
     "output_type": "execute_result"
    }
   ],
   "source": [
    "brigadas"
   ]
  },
  {
   "cell_type": "markdown",
   "metadata": {},
   "source": [
    "## Indexación avanzada de arreglos.\n",
    "\n",
    "Es posible identificar uno o más elementos de un arreglo mediante otro arreglo que identifique la posición de la primera dimensión del primero al que ???? se aplicarse mediante corchetes. Dicha posición será expresada como un entero positivo dentro del tamaño del arreglo."
   ]
  },
  {
   "cell_type": "markdown",
   "metadata": {},
   "source": [
    "**Ejemplos:**"
   ]
  },
  {
   "cell_type": "code",
   "execution_count": 9,
   "metadata": {},
   "outputs": [],
   "source": [
    "brigadas = np.array([[['Juan', 'Antonio', 'Ricardo'], ['Alonso', 'Jorge', 'Salvador']],\n",
    "                    [['David', 'Julian', 'Ricardo'], ['Arturo', 'Ramiro', 'Esteban']],\n",
    "                    [['Arturo', 'Ricardo', 'Lucio'], ['Jorge', 'Marco', 'Juan']],\n",
    "                    [['Alonso', 'Julian', 'Salvador'], ['Ricardo', 'Jorge', 'Esteban']],\n",
    "                    [['Lucio', 'Ramiro', 'Joaquín'], ['Ricardo', 'Marco', 'Juan']]])"
   ]
  },
  {
   "cell_type": "markdown",
   "metadata": {},
   "source": [
    "Se obtendrá un arreglo a partir de *brigadas* aplicando el arreglo *indice_1* que identifica a las cuadrillas de miércoles (2), lunes(0) y jueves(3)."
   ]
  },
  {
   "cell_type": "code",
   "execution_count": 10,
   "metadata": {},
   "outputs": [],
   "source": [
    "indice_1 = np.array([2, 0, 3])"
   ]
  },
  {
   "cell_type": "code",
   "execution_count": 11,
   "metadata": {},
   "outputs": [
    {
     "data": {
      "text/plain": [
       "array([2, 0, 3])"
      ]
     },
     "execution_count": 11,
     "metadata": {},
     "output_type": "execute_result"
    }
   ],
   "source": [
    "indice_1"
   ]
  },
  {
   "cell_type": "code",
   "execution_count": 12,
   "metadata": {
    "scrolled": true
   },
   "outputs": [
    {
     "data": {
      "text/plain": [
       "array([[['Arturo', 'Ricardo', 'Lucio'],\n",
       "        ['Jorge', 'Marco', 'Juan']],\n",
       "\n",
       "       [['Juan', 'Antonio', 'Ricardo'],\n",
       "        ['Alonso', 'Jorge', 'Salvador']],\n",
       "\n",
       "       [['Alonso', 'Julian', 'Salvador'],\n",
       "        ['Ricardo', 'Jorge', 'Esteban']]], dtype='<U8')"
      ]
     },
     "execution_count": 12,
     "metadata": {},
     "output_type": "execute_result"
    }
   ],
   "source": [
    "brigadas[indice_1]"
   ]
  },
  {
   "cell_type": "markdown",
   "metadata": {},
   "source": [
    "Se creará un arreglo de 4 dimensiones. Una de ellas contiene a los elementos de jueves y lunes y la otra, de martes y viernes."
   ]
  },
  {
   "cell_type": "code",
   "execution_count": 13,
   "metadata": {},
   "outputs": [],
   "source": [
    "indice_2 = np.array([[3, 0], [1,4 ]])"
   ]
  },
  {
   "cell_type": "code",
   "execution_count": 14,
   "metadata": {},
   "outputs": [
    {
     "data": {
      "text/plain": [
       "array([[3, 0],\n",
       "       [1, 4]])"
      ]
     },
     "execution_count": 14,
     "metadata": {},
     "output_type": "execute_result"
    }
   ],
   "source": [
    "indice_2"
   ]
  },
  {
   "cell_type": "code",
   "execution_count": 15,
   "metadata": {},
   "outputs": [
    {
     "data": {
      "text/plain": [
       "array([[[['Alonso', 'Julian', 'Salvador'],\n",
       "         ['Ricardo', 'Jorge', 'Esteban']],\n",
       "\n",
       "        [['Juan', 'Antonio', 'Ricardo'],\n",
       "         ['Alonso', 'Jorge', 'Salvador']]],\n",
       "\n",
       "\n",
       "       [[['David', 'Julian', 'Ricardo'],\n",
       "         ['Arturo', 'Ramiro', 'Esteban']],\n",
       "\n",
       "        [['Lucio', 'Ramiro', 'Joaquín'],\n",
       "         ['Ricardo', 'Marco', 'Juan']]]], dtype='<U8')"
      ]
     },
     "execution_count": 15,
     "metadata": {},
     "output_type": "execute_result"
    }
   ],
   "source": [
    "brigadas[indice_2]"
   ]
  },
  {
   "cell_type": "markdown",
   "metadata": {},
   "source": [
    "### Referencia con múltiples arreglos.\n",
    "\n",
    "Si se ingresa una sucesión de arreglos separados por comas, el primer arreglo relacionará la primera dimensión del arreglo indexado, mientas que le siguiente a su vez, hará referencia a la segunda dimensión y así sucesivamente."
   ]
  },
  {
   "cell_type": "markdown",
   "metadata": {},
   "source": [
    "**Ejemplo:**\n",
    "\n",
    "Se utilizarán 2 arreglos para obtener las brigadas correspondientes del arreglo *brigadas*."
   ]
  },
  {
   "cell_type": "code",
   "execution_count": 16,
   "metadata": {},
   "outputs": [],
   "source": [
    "brigadas = np.array([[['Juan', 'Antonio', 'Ricardo'], ['Alonso', 'Jorge', 'Salvador']],\n",
    "                    [['David', 'Julian', 'Ricardo'], ['Arturo', 'Ramiro', 'Esteban']],\n",
    "                    [['Arturo', 'Ricardo', 'Lucio'], ['Jorge', 'Marco', 'Juan']],\n",
    "                    [['Alonso', 'Julian', 'Salvador'], ['Ricardo', 'Jorge', 'Esteban']],\n",
    "                    [['Lucio', 'Ramiro', 'Joaquín'], ['Ricardo', 'Marco', 'Juan']]])"
   ]
  },
  {
   "cell_type": "markdown",
   "metadata": {},
   "source": [
    "El primer arreglo definirá los elementos en la primera dimensión. En este caso, lunes (0) y jueves (3)."
   ]
  },
  {
   "cell_type": "code",
   "execution_count": 17,
   "metadata": {},
   "outputs": [],
   "source": [
    "indice_x = np.array([0,3])"
   ]
  },
  {
   "cell_type": "code",
   "execution_count": 18,
   "metadata": {},
   "outputs": [
    {
     "data": {
      "text/plain": [
       "array([0, 3])"
      ]
     },
     "execution_count": 18,
     "metadata": {},
     "output_type": "execute_result"
    }
   ],
   "source": [
    "indice_x"
   ]
  },
  {
   "cell_type": "markdown",
   "metadata": {},
   "source": [
    "El segundo arreglo definirá la primera brigada (0) y la segunda brigada(1)."
   ]
  },
  {
   "cell_type": "code",
   "execution_count": 19,
   "metadata": {},
   "outputs": [],
   "source": [
    "indice_y = np.array([0,1])"
   ]
  },
  {
   "cell_type": "code",
   "execution_count": 20,
   "metadata": {},
   "outputs": [
    {
     "data": {
      "text/plain": [
       "array([0, 1])"
      ]
     },
     "execution_count": 20,
     "metadata": {},
     "output_type": "execute_result"
    }
   ],
   "source": [
    "indice_y"
   ]
  },
  {
   "cell_type": "markdown",
   "metadata": {},
   "source": [
    "Al aplicarse ambos arreglos como índices, el resultado será un arreglo de dos dimensiones, incluyendo la primera brigada del lunes ([0, 0]) y la segunda brigada del jueves ([3, 1])."
   ]
  },
  {
   "cell_type": "code",
   "execution_count": 21,
   "metadata": {},
   "outputs": [
    {
     "data": {
      "text/plain": [
       "array([['Juan', 'Antonio', 'Ricardo'],\n",
       "       ['Ricardo', 'Jorge', 'Esteban']], dtype='<U8')"
      ]
     },
     "execution_count": 21,
     "metadata": {},
     "output_type": "execute_result"
    }
   ],
   "source": [
    "brigadas[indice_x, indice_y]"
   ]
  },
  {
   "cell_type": "markdown",
   "metadata": {},
   "source": [
    "Si se añadiera un índice adicional, el resultado sería un arreglo de una dimesión."
   ]
  },
  {
   "cell_type": "code",
   "execution_count": null,
   "metadata": {},
   "outputs": [],
   "source": [
    "indice_z = np.array([0, 2])"
   ]
  },
  {
   "cell_type": "code",
   "execution_count": null,
   "metadata": {},
   "outputs": [],
   "source": [
    "indice_z"
   ]
  },
  {
   "cell_type": "code",
   "execution_count": null,
   "metadata": {},
   "outputs": [],
   "source": [
    "brigadas[indice_x, indice_y, indice_z]"
   ]
  },
  {
   "cell_type": "markdown",
   "metadata": {},
   "source": [
    "**NOTA:** Es necesario que los arreglos que se utilizarán como índices, sean de las mismas dimensiones y tamaños."
   ]
  },
  {
   "cell_type": "markdown",
   "metadata": {},
   "source": [
    "## 'Broadcasting'.\n",
    "\n",
    "Numpy permite llenar una región definida de un arreglo con un arreglo más pequeño, pero que se ajuste a las dimensiones del afectado."
   ]
  },
  {
   "cell_type": "markdown",
   "metadata": {},
   "source": [
    "**Ejemplos:**"
   ]
  },
  {
   "cell_type": "markdown",
   "metadata": {},
   "source": [
    "En este caso, la seguna brigada del viernes será llenada con la cadena *'Juan'*."
   ]
  },
  {
   "cell_type": "code",
   "execution_count": null,
   "metadata": {},
   "outputs": [],
   "source": [
    "brigadas = np.array([[['Juan', 'Antonio', 'Ricardo'], ['Alonso', 'Jorge', 'Salvador']],\n",
    "                    [['David', 'Julian', 'Ricardo'], ['Arturo', 'Ramiro', 'Esteban']],\n",
    "                    [['Arturo', 'Ricardo', 'Lucio'], ['Jorge', 'Marco', 'Juan']],\n",
    "                    [['Alonso', 'Julian', 'Salvador'], ['Ricardo', 'Jorge', 'Esteban']],\n",
    "                    [['Lucio', 'Ramiro', 'Joaquín'], ['Ricardo', 'Marco', 'Juan']]])"
   ]
  },
  {
   "cell_type": "code",
   "execution_count": null,
   "metadata": {},
   "outputs": [],
   "source": [
    "brigadas[4, 1] = 'Juan'"
   ]
  },
  {
   "cell_type": "code",
   "execution_count": null,
   "metadata": {},
   "outputs": [],
   "source": [
    "brigadas"
   ]
  },
  {
   "cell_type": "markdown",
   "metadata": {},
   "source": [
    "En este caso, todas las brigadas del miércoles serán *['Rocío', 'Martha', 'Angélica']*."
   ]
  },
  {
   "cell_type": "code",
   "execution_count": null,
   "metadata": {},
   "outputs": [],
   "source": [
    "brigadas = np.array([[['Juan', 'Antonio', 'Ricardo'], ['Alonso', 'Jorge', 'Salvador']],\n",
    "                    [['David', 'Julian', 'Ricardo'], ['Arturo', 'Ramiro', 'Esteban']],\n",
    "                    [['Arturo', 'Ricardo', 'Lucio'], ['Jorge', 'Marco', 'Juan']],\n",
    "                    [['Alonso', 'Julian', 'Salvador'], ['Ricardo', 'Jorge', 'Esteban']],\n",
    "                    [['Lucio', 'Ramiro', 'Joaquín'], ['Ricardo', 'Marco', 'Juan']]])"
   ]
  },
  {
   "cell_type": "code",
   "execution_count": null,
   "metadata": {},
   "outputs": [],
   "source": [
    "brigadas[2] = np.array(['Rocio', 'Martha', 'Angélica'])"
   ]
  },
  {
   "cell_type": "code",
   "execution_count": null,
   "metadata": {
    "scrolled": true
   },
   "outputs": [],
   "source": [
    "brigadas"
   ]
  },
  {
   "cell_type": "markdown",
   "metadata": {},
   "source": [
    "## Aritmética y operadores con arreglos.\n",
    "\n",
    "Los arreglos de Numpy son compatibles con los diversos operadores artiméticos y lógicos de Python.\n",
    "\n",
    "En el caso de que se trate de un número o de otro arreglo cuyas dimensiones se ajusten correctamente, las operaciones aritméticas y lógicas se distribuirán a todos los elementos del arreglo definidos mediante *broadcasting*."
   ]
  },
  {
   "cell_type": "markdown",
   "metadata": {},
   "source": [
    "**Ejemplos:**"
   ]
  },
  {
   "cell_type": "markdown",
   "metadata": {},
   "source": [
    "* Se creará la siguiente matriz."
   ]
  },
  {
   "cell_type": "code",
   "execution_count": null,
   "metadata": {},
   "outputs": [],
   "source": [
    "matriz_1 = np.array([[1, 2, 3],\n",
    "                  [4, 0, -5],\n",
    "                  [-6, -7, -8]]) "
   ]
  },
  {
   "cell_type": "markdown",
   "metadata": {},
   "source": [
    "* Todas las operaciones siguientes serán aplicadas a todos y cada uno de los elementos del arreglo."
   ]
  },
  {
   "cell_type": "code",
   "execution_count": null,
   "metadata": {},
   "outputs": [],
   "source": [
    "matriz_1 + 100"
   ]
  },
  {
   "cell_type": "markdown",
   "metadata": {},
   "source": [
    "* En este caso, la operación sólo se realizará en el tercer elemento."
   ]
  },
  {
   "cell_type": "code",
   "execution_count": null,
   "metadata": {},
   "outputs": [],
   "source": [
    "matriz_1[2] * 3"
   ]
  },
  {
   "cell_type": "markdown",
   "metadata": {},
   "source": [
    "* El operador de división funciona de manera similar."
   ]
  },
  {
   "cell_type": "code",
   "execution_count": null,
   "metadata": {},
   "outputs": [],
   "source": [
    "3 / matriz_1"
   ]
  },
  {
   "cell_type": "code",
   "execution_count": null,
   "metadata": {},
   "outputs": [],
   "source": [
    "matriz_1 / 3.42"
   ]
  },
  {
   "cell_type": "markdown",
   "metadata": {},
   "source": [
    "* Incluso los operadores lógicos se ejecutan por *broadcasting*."
   ]
  },
  {
   "cell_type": "code",
   "execution_count": null,
   "metadata": {},
   "outputs": [],
   "source": [
    "matriz_1 > 1"
   ]
  },
  {
   "cell_type": "markdown",
   "metadata": {},
   "source": [
    "* Ahora se crearán dos nuevas matrices y se utilzarán algunos operadores sobre *matriz_1*.\n",
    "* Se crearán dos matrices de dimensiones *(3)*  y *(3, 1)*."
   ]
  },
  {
   "cell_type": "code",
   "execution_count": null,
   "metadata": {},
   "outputs": [],
   "source": [
    "matriz_2 = np.array([1, 2, 3])"
   ]
  },
  {
   "cell_type": "code",
   "execution_count": null,
   "metadata": {},
   "outputs": [],
   "source": [
    "matriz_2"
   ]
  },
  {
   "cell_type": "code",
   "execution_count": null,
   "metadata": {},
   "outputs": [],
   "source": [
    "matriz_3 = np.array([[2], [4], [6]])"
   ]
  },
  {
   "cell_type": "code",
   "execution_count": null,
   "metadata": {},
   "outputs": [],
   "source": [
    "matriz_3"
   ]
  },
  {
   "cell_type": "markdown",
   "metadata": {},
   "source": [
    "* En el siguiente caso, la operación se realizará en cada renglón de *matriz_1*."
   ]
  },
  {
   "cell_type": "code",
   "execution_count": null,
   "metadata": {},
   "outputs": [],
   "source": [
    "matriz_1 * matriz_2"
   ]
  },
  {
   "cell_type": "markdown",
   "metadata": {},
   "source": [
    "* En el siguiente caso, la operación se realizará en cada columna de *matriz_1*."
   ]
  },
  {
   "cell_type": "code",
   "execution_count": null,
   "metadata": {},
   "outputs": [],
   "source": [
    "matriz_3 * matriz_1"
   ]
  },
  {
   "cell_type": "markdown",
   "metadata": {},
   "source": [
    "* En el siguiente caso, se utilizarán matrices de dimensiones indénticas, de tal forma que cada elemento de la matriz es multiplicado con el elemento ubicado en la misma  posición de la otra."
   ]
  },
  {
   "cell_type": "code",
   "execution_count": null,
   "metadata": {},
   "outputs": [],
   "source": [
    "np.array([[ 1,  2,  3],\n",
    "       [ 4,  0, -5],\n",
    "       [-6, -7, -8]]) * np.array([[ -1,  12,  13],\n",
    "                              [ -4,  0, 5],\n",
    "                              [6, 7, 8]])"
   ]
  },
  {
   "cell_type": "markdown",
   "metadata": {},
   "source": [
    "<p style=\"text-align: center\"><a rel=\"license\" href=\"http://creativecommons.org/licenses/by/4.0/\"><img alt=\"Licencia Creative Commons\" style=\"border-width:0\" src=\"https://i.creativecommons.org/l/by/4.0/80x15.png\" /></a><br />Esta obra está bajo una <a rel=\"license\" href=\"http://creativecommons.org/licenses/by/4.0/\">Licencia Creative Commons Atribución 4.0 Internacional</a>.</p>\n",
    "<p style=\"text-align: center\">&copy; José Luis Chiquete Valdivieso. 2019.</p>"
   ]
  }
 ],
 "metadata": {
  "kernelspec": {
   "display_name": "Python 3",
   "language": "python",
   "name": "python3"
  },
  "language_info": {
   "codemirror_mode": {
    "name": "ipython",
    "version": 3
   },
   "file_extension": ".py",
   "mimetype": "text/x-python",
   "name": "python",
   "nbconvert_exporter": "python",
   "pygments_lexer": "ipython3",
   "version": "3.6.6"
  }
 },
 "nbformat": 4,
 "nbformat_minor": 2
}
